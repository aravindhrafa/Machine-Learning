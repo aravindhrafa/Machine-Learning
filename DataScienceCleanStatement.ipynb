{
 "cells": [
  {
   "cell_type": "markdown",
   "metadata": {
    "id": "VLklWgWLZgBS"
   },
   "source": [
    "Importing PreRequisites\n"
   ]
  },
  {
   "cell_type": "code",
   "execution_count": 1,
   "metadata": {
    "executionInfo": {
     "elapsed": 1598,
     "status": "ok",
     "timestamp": 1623413297885,
     "user": {
      "displayName": "Aravindh Ravi",
      "photoUrl": "https://lh3.googleusercontent.com/a-/AOh14Gg6EpUJbxfaJau7GuJhLzctW6s9to-RMtRufFl2yw=s64",
      "userId": "01057670441275100003"
     },
     "user_tz": -330
    },
    "id": "Imx8uVm_ZGb_"
   },
   "outputs": [],
   "source": [
    "import numpy as np\n",
    "import pandas as pd\n",
    "import matplotlib.pyplot as plt \n",
    "import seaborn as sns\n",
    "import os "
   ]
  },
  {
   "cell_type": "code",
   "execution_count": 2,
   "metadata": {
    "colab": {
     "base_uri": "https://localhost:8080/"
    },
    "executionInfo": {
     "elapsed": 20176,
     "status": "ok",
     "timestamp": 1623413318034,
     "user": {
      "displayName": "Aravindh Ravi",
      "photoUrl": "https://lh3.googleusercontent.com/a-/AOh14Gg6EpUJbxfaJau7GuJhLzctW6s9to-RMtRufFl2yw=s64",
      "userId": "01057670441275100003"
     },
     "user_tz": -330
    },
    "id": "l0FifLPpZdkc",
    "outputId": "fb713e7b-1207-4153-e0f0-221bb2bf86bd"
   },
   "outputs": [
    {
     "name": "stdout",
     "output_type": "stream",
     "text": [
      "Mounted at /content/drive/\n"
     ]
    }
   ],
   "source": [
    "from google.colab import drive\n",
    "drive.mount('/content/drive/')"
   ]
  },
  {
   "cell_type": "code",
   "execution_count": 3,
   "metadata": {
    "colab": {
     "base_uri": "https://localhost:8080/"
    },
    "executionInfo": {
     "elapsed": 15,
     "status": "ok",
     "timestamp": 1623413318036,
     "user": {
      "displayName": "Aravindh Ravi",
      "photoUrl": "https://lh3.googleusercontent.com/a-/AOh14Gg6EpUJbxfaJau7GuJhLzctW6s9to-RMtRufFl2yw=s64",
      "userId": "01057670441275100003"
     },
     "user_tz": -330
    },
    "id": "EPzwbE06bDqI",
    "outputId": "2321f12a-59cb-4e98-cc27-f969d79c37dc"
   },
   "outputs": [
    {
     "data": {
      "text/plain": [
       "['DataScienceCleanStatement.csv']"
      ]
     },
     "execution_count": 3,
     "metadata": {
      "tags": []
     },
     "output_type": "execute_result"
    }
   ],
   "source": [
    "os.listdir('/content/drive/My Drive/one_banc_code_submission/')"
   ]
  },
  {
   "cell_type": "code",
   "execution_count": 4,
   "metadata": {
    "colab": {
     "base_uri": "https://localhost:8080/",
     "height": 570
    },
    "executionInfo": {
     "elapsed": 956,
     "status": "ok",
     "timestamp": 1623413318984,
     "user": {
      "displayName": "Aravindh Ravi",
      "photoUrl": "https://lh3.googleusercontent.com/a-/AOh14Gg6EpUJbxfaJau7GuJhLzctW6s9to-RMtRufFl2yw=s64",
      "userId": "01057670441275100003"
     },
     "user_tz": -330
    },
    "id": "LXXh8LATbeYT",
    "outputId": "570f8c38-65f1-4bc2-8b4c-aaf2bcd19a23"
   },
   "outputs": [
    {
     "data": {
      "text/html": [
       "<div>\n",
       "<style scoped>\n",
       "    .dataframe tbody tr th:only-of-type {\n",
       "        vertical-align: middle;\n",
       "    }\n",
       "\n",
       "    .dataframe tbody tr th {\n",
       "        vertical-align: top;\n",
       "    }\n",
       "\n",
       "    .dataframe thead th {\n",
       "        text-align: right;\n",
       "    }\n",
       "</style>\n",
       "<table border=\"1\" class=\"dataframe\">\n",
       "  <thead>\n",
       "    <tr style=\"text-align: right;\">\n",
       "      <th></th>\n",
       "      <th>Date</th>\n",
       "      <th>Description</th>\n",
       "      <th>InternationTransactionAmount</th>\n",
       "      <th>Category</th>\n",
       "      <th>Amount</th>\n",
       "      <th>TransactionUserName</th>\n",
       "      <th>TransactionType</th>\n",
       "      <th>IsoCurrency</th>\n",
       "      <th>Locality</th>\n",
       "      <th>City</th>\n",
       "      <th>State</th>\n",
       "      <th>Country</th>\n",
       "      <th>Unnamed: 12</th>\n",
       "    </tr>\n",
       "  </thead>\n",
       "  <tbody>\n",
       "    <tr>\n",
       "      <th>0</th>\n",
       "      <td>12/12/2019</td>\n",
       "      <td>THE ROOM               GURGAON                ...</td>\n",
       "      <td>0</td>\n",
       "      <td>Video game</td>\n",
       "      <td>-127</td>\n",
       "      <td>VIBHORE GOYAL</td>\n",
       "      <td>Domestic</td>\n",
       "      <td>INR</td>\n",
       "      <td>Central Park II</td>\n",
       "      <td>Gurugram</td>\n",
       "      <td>Haryana</td>\n",
       "      <td>India</td>\n",
       "      <td>NaN</td>\n",
       "    </tr>\n",
       "    <tr>\n",
       "      <th>1</th>\n",
       "      <td>12/12/2019</td>\n",
       "      <td>CUT AND STYLEGURGAON                          ...</td>\n",
       "      <td>0</td>\n",
       "      <td>Occupation</td>\n",
       "      <td>-499</td>\n",
       "      <td>JASJIT KAUR</td>\n",
       "      <td>Domestic</td>\n",
       "      <td>INR</td>\n",
       "      <td>Sector 4</td>\n",
       "      <td>Gurugram</td>\n",
       "      <td>Haryana</td>\n",
       "      <td>India</td>\n",
       "      <td>NaN</td>\n",
       "    </tr>\n",
       "    <tr>\n",
       "      <th>2</th>\n",
       "      <td>12/12/2019</td>\n",
       "      <td>MUMUSOGURGAON                                 ...</td>\n",
       "      <td>0</td>\n",
       "      <td></td>\n",
       "      <td>-388</td>\n",
       "      <td>JASJIT KAUR</td>\n",
       "      <td>Domestic</td>\n",
       "      <td>INR</td>\n",
       "      <td>Sector 49</td>\n",
       "      <td>Gurugram</td>\n",
       "      <td>Haryana</td>\n",
       "      <td>India</td>\n",
       "      <td>NaN</td>\n",
       "    </tr>\n",
       "    <tr>\n",
       "      <th>3</th>\n",
       "      <td>12/12/2019</td>\n",
       "      <td>THE ROOM               GURGAON                ...</td>\n",
       "      <td>0</td>\n",
       "      <td>Video game</td>\n",
       "      <td>-108</td>\n",
       "      <td>VIBHORE GOYAL</td>\n",
       "      <td>Domestic</td>\n",
       "      <td>INR</td>\n",
       "      <td>Central Park II</td>\n",
       "      <td>Gurugram</td>\n",
       "      <td>Haryana</td>\n",
       "      <td>India</td>\n",
       "      <td>NaN</td>\n",
       "    </tr>\n",
       "    <tr>\n",
       "      <th>4</th>\n",
       "      <td>12/12/2019</td>\n",
       "      <td>THE ROOM               GURGAON                ...</td>\n",
       "      <td>0</td>\n",
       "      <td>Video game</td>\n",
       "      <td>-50</td>\n",
       "      <td>VIBHORE GOYAL</td>\n",
       "      <td>Domestic</td>\n",
       "      <td>INR</td>\n",
       "      <td>Central Park II</td>\n",
       "      <td>Gurugram</td>\n",
       "      <td>Haryana</td>\n",
       "      <td>India</td>\n",
       "      <td>NaN</td>\n",
       "    </tr>\n",
       "    <tr>\n",
       "      <th>...</th>\n",
       "      <td>...</td>\n",
       "      <td>...</td>\n",
       "      <td>...</td>\n",
       "      <td>...</td>\n",
       "      <td>...</td>\n",
       "      <td>...</td>\n",
       "      <td>...</td>\n",
       "      <td>...</td>\n",
       "      <td>...</td>\n",
       "      <td>...</td>\n",
       "      <td>...</td>\n",
       "      <td>...</td>\n",
       "      <td>...</td>\n",
       "    </tr>\n",
       "    <tr>\n",
       "      <th>1465</th>\n",
       "      <td>6/7/2019</td>\n",
       "      <td>KFC SEC 47 SOHNA ROAD GGURGAON                ...</td>\n",
       "      <td>0</td>\n",
       "      <td>Fast food restaurant company</td>\n",
       "      <td>-120</td>\n",
       "      <td>VIBHORE GOYAL</td>\n",
       "      <td>Domestic</td>\n",
       "      <td>INR</td>\n",
       "      <td>D1 Block</td>\n",
       "      <td>Gurugram</td>\n",
       "      <td>Haryana</td>\n",
       "      <td>India</td>\n",
       "      <td>NaN</td>\n",
       "    </tr>\n",
       "    <tr>\n",
       "      <th>1466</th>\n",
       "      <td>7/7/2019</td>\n",
       "      <td>SPICEJET LIMITEDGURGAON                       ...</td>\n",
       "      <td>0</td>\n",
       "      <td>Airline</td>\n",
       "      <td>-1798</td>\n",
       "      <td>VIBHORE GOYAL</td>\n",
       "      <td>Domestic</td>\n",
       "      <td>INR</td>\n",
       "      <td>Phase III</td>\n",
       "      <td>Gurugram</td>\n",
       "      <td>Haryana</td>\n",
       "      <td>India</td>\n",
       "      <td>NaN</td>\n",
       "    </tr>\n",
       "    <tr>\n",
       "      <th>1467</th>\n",
       "      <td>7/7/2019</td>\n",
       "      <td>CAFE COFFEE DAYILD TRADE                      ...</td>\n",
       "      <td>0</td>\n",
       "      <td>Cafe company</td>\n",
       "      <td>-298</td>\n",
       "      <td>VIBHORE GOYAL</td>\n",
       "      <td>Domestic</td>\n",
       "      <td>INR</td>\n",
       "      <td>Sohna Road</td>\n",
       "      <td>Gurugram</td>\n",
       "      <td>Haryana</td>\n",
       "      <td>India</td>\n",
       "      <td>NaN</td>\n",
       "    </tr>\n",
       "    <tr>\n",
       "      <th>1468</th>\n",
       "      <td>7/7/2019</td>\n",
       "      <td>SHOPPERS STOP LTD      GURGAON                ...</td>\n",
       "      <td>0</td>\n",
       "      <td>Department store company</td>\n",
       "      <td>-1852</td>\n",
       "      <td>JASJIT KAUR</td>\n",
       "      <td>Domestic</td>\n",
       "      <td>INR</td>\n",
       "      <td>Heritage City</td>\n",
       "      <td>Gurugram</td>\n",
       "      <td>Haryana</td>\n",
       "      <td>India</td>\n",
       "      <td>NaN</td>\n",
       "    </tr>\n",
       "    <tr>\n",
       "      <th>1469</th>\n",
       "      <td>11/7/2019</td>\n",
       "      <td>TATA INDICOM-DOCOMOMUMBAI                     ...</td>\n",
       "      <td>0</td>\n",
       "      <td>Former President of South Africa</td>\n",
       "      <td>-1297</td>\n",
       "      <td>VIBHORE GOYAL</td>\n",
       "      <td>Domestic</td>\n",
       "      <td>INR</td>\n",
       "      <td>Mahim</td>\n",
       "      <td>Mumbai</td>\n",
       "      <td>Maharashtra</td>\n",
       "      <td>India</td>\n",
       "      <td>NaN</td>\n",
       "    </tr>\n",
       "  </tbody>\n",
       "</table>\n",
       "<p>1470 rows × 13 columns</p>\n",
       "</div>"
      ],
      "text/plain": [
       "      Date        ... Unnamed: 12\n",
       "0     12/12/2019  ...         NaN\n",
       "1     12/12/2019  ...         NaN\n",
       "2     12/12/2019  ...         NaN\n",
       "3     12/12/2019  ...         NaN\n",
       "4     12/12/2019  ...         NaN\n",
       "...          ...  ...         ...\n",
       "1465    6/7/2019  ...         NaN\n",
       "1466    7/7/2019  ...         NaN\n",
       "1467    7/7/2019  ...         NaN\n",
       "1468    7/7/2019  ...         NaN\n",
       "1469   11/7/2019  ...         NaN\n",
       "\n",
       "[1470 rows x 13 columns]"
      ]
     },
     "execution_count": 4,
     "metadata": {
      "tags": []
     },
     "output_type": "execute_result"
    }
   ],
   "source": [
    "dataframe_1 = pd.read_csv('/content/drive/My Drive/one_banc_code_submission/DataScienceCleanStatement.csv')\n",
    "dataframe_1"
   ]
  },
  {
   "cell_type": "code",
   "execution_count": 5,
   "metadata": {
    "colab": {
     "base_uri": "https://localhost:8080/"
    },
    "executionInfo": {
     "elapsed": 88,
     "status": "ok",
     "timestamp": 1623413318985,
     "user": {
      "displayName": "Aravindh Ravi",
      "photoUrl": "https://lh3.googleusercontent.com/a-/AOh14Gg6EpUJbxfaJau7GuJhLzctW6s9to-RMtRufFl2yw=s64",
      "userId": "01057670441275100003"
     },
     "user_tz": -330
    },
    "id": "hUi7rOYXiSV8",
    "outputId": "d53b5a2c-b1ac-40a6-c2de-5b776fdb995c"
   },
   "outputs": [
    {
     "data": {
      "text/plain": [
       "(1470, 13)"
      ]
     },
     "execution_count": 5,
     "metadata": {
      "tags": []
     },
     "output_type": "execute_result"
    }
   ],
   "source": [
    "dataframe_1.shape"
   ]
  },
  {
   "cell_type": "code",
   "execution_count": 6,
   "metadata": {
    "colab": {
     "base_uri": "https://localhost:8080/"
    },
    "executionInfo": {
     "elapsed": 91,
     "status": "ok",
     "timestamp": 1623413318996,
     "user": {
      "displayName": "Aravindh Ravi",
      "photoUrl": "https://lh3.googleusercontent.com/a-/AOh14Gg6EpUJbxfaJau7GuJhLzctW6s9to-RMtRufFl2yw=s64",
      "userId": "01057670441275100003"
     },
     "user_tz": -330
    },
    "id": "eS6XkTJykX76",
    "outputId": "6abb7978-52c0-4cb1-bac4-a97f4198d195"
   },
   "outputs": [
    {
     "data": {
      "text/plain": [
       "Index(['Date      ',\n",
       "       'Description                                                        ',\n",
       "       'InternationTransactionAmount', '  Category', '  Amount',\n",
       "       'TransactionUserName ', ' TransactionType', 'IsoCurrency', 'Locality',\n",
       "       'City', 'State', 'Country', 'Unnamed: 12'],\n",
       "      dtype='object')"
      ]
     },
     "execution_count": 6,
     "metadata": {
      "tags": []
     },
     "output_type": "execute_result"
    }
   ],
   "source": [
    "dataframe_1.columns\n",
    "\n",
    "# The columns are not aligned. So, stripping need to be done "
   ]
  },
  {
   "cell_type": "code",
   "execution_count": 7,
   "metadata": {
    "colab": {
     "base_uri": "https://localhost:8080/"
    },
    "executionInfo": {
     "elapsed": 89,
     "status": "ok",
     "timestamp": 1623413318998,
     "user": {
      "displayName": "Aravindh Ravi",
      "photoUrl": "https://lh3.googleusercontent.com/a-/AOh14Gg6EpUJbxfaJau7GuJhLzctW6s9to-RMtRufFl2yw=s64",
      "userId": "01057670441275100003"
     },
     "user_tz": -330
    },
    "id": "-bkV4CkyzVe4",
    "outputId": "1f5f1eab-436d-491d-acc9-95ec5941f4f2"
   },
   "outputs": [
    {
     "data": {
      "text/plain": [
       "Index(['Date', 'Description', 'InternationTransactionAmount', 'Category',\n",
       "       'Amount', 'TransactionUserName', 'TransactionType', 'IsoCurrency',\n",
       "       'Locality', 'City', 'State', 'Country', 'Unnamed: 12'],\n",
       "      dtype='object')"
      ]
     },
     "execution_count": 7,
     "metadata": {
      "tags": []
     },
     "output_type": "execute_result"
    }
   ],
   "source": [
    "# for x in dataframe_1.columns: \n",
    "#   print(x.strip())\n",
    "column_striped = []\n",
    "for x in dataframe_1.columns:\n",
    "  column_striped.append(x.strip())\n",
    "\n",
    "dataframe_1.columns = column_striped\n",
    "dataframe_1.columns"
   ]
  },
  {
   "cell_type": "markdown",
   "metadata": {
    "id": "trXrujq_dR56"
   },
   "source": [
    "## Exploring dataset"
   ]
  },
  {
   "cell_type": "code",
   "execution_count": 8,
   "metadata": {
    "colab": {
     "base_uri": "https://localhost:8080/",
     "height": 451
    },
    "executionInfo": {
     "elapsed": 87,
     "status": "ok",
     "timestamp": 1623413318999,
     "user": {
      "displayName": "Aravindh Ravi",
      "photoUrl": "https://lh3.googleusercontent.com/a-/AOh14Gg6EpUJbxfaJau7GuJhLzctW6s9to-RMtRufFl2yw=s64",
      "userId": "01057670441275100003"
     },
     "user_tz": -330
    },
    "id": "3R6urYkmb5y2",
    "outputId": "d4e56450-92ed-4451-ea21-549d1769af2f"
   },
   "outputs": [
    {
     "data": {
      "text/html": [
       "<div>\n",
       "<style scoped>\n",
       "    .dataframe tbody tr th:only-of-type {\n",
       "        vertical-align: middle;\n",
       "    }\n",
       "\n",
       "    .dataframe tbody tr th {\n",
       "        vertical-align: top;\n",
       "    }\n",
       "\n",
       "    .dataframe thead th {\n",
       "        text-align: right;\n",
       "    }\n",
       "</style>\n",
       "<table border=\"1\" class=\"dataframe\">\n",
       "  <thead>\n",
       "    <tr style=\"text-align: right;\">\n",
       "      <th></th>\n",
       "      <th>0</th>\n",
       "      <th>1</th>\n",
       "      <th>2</th>\n",
       "      <th>3</th>\n",
       "      <th>4</th>\n",
       "    </tr>\n",
       "  </thead>\n",
       "  <tbody>\n",
       "    <tr>\n",
       "      <th>Date</th>\n",
       "      <td>12/12/2019</td>\n",
       "      <td>12/12/2019</td>\n",
       "      <td>12/12/2019</td>\n",
       "      <td>12/12/2019</td>\n",
       "      <td>12/12/2019</td>\n",
       "    </tr>\n",
       "    <tr>\n",
       "      <th>Description</th>\n",
       "      <td>THE ROOM               GURGAON                ...</td>\n",
       "      <td>CUT AND STYLEGURGAON                          ...</td>\n",
       "      <td>MUMUSOGURGAON                                 ...</td>\n",
       "      <td>THE ROOM               GURGAON                ...</td>\n",
       "      <td>THE ROOM               GURGAON                ...</td>\n",
       "    </tr>\n",
       "    <tr>\n",
       "      <th>InternationTransactionAmount</th>\n",
       "      <td>0</td>\n",
       "      <td>0</td>\n",
       "      <td>0</td>\n",
       "      <td>0</td>\n",
       "      <td>0</td>\n",
       "    </tr>\n",
       "    <tr>\n",
       "      <th>Category</th>\n",
       "      <td>Video game</td>\n",
       "      <td>Occupation</td>\n",
       "      <td></td>\n",
       "      <td>Video game</td>\n",
       "      <td>Video game</td>\n",
       "    </tr>\n",
       "    <tr>\n",
       "      <th>Amount</th>\n",
       "      <td>-127</td>\n",
       "      <td>-499</td>\n",
       "      <td>-388</td>\n",
       "      <td>-108</td>\n",
       "      <td>-50</td>\n",
       "    </tr>\n",
       "    <tr>\n",
       "      <th>TransactionUserName</th>\n",
       "      <td>VIBHORE GOYAL</td>\n",
       "      <td>JASJIT KAUR</td>\n",
       "      <td>JASJIT KAUR</td>\n",
       "      <td>VIBHORE GOYAL</td>\n",
       "      <td>VIBHORE GOYAL</td>\n",
       "    </tr>\n",
       "    <tr>\n",
       "      <th>TransactionType</th>\n",
       "      <td>Domestic</td>\n",
       "      <td>Domestic</td>\n",
       "      <td>Domestic</td>\n",
       "      <td>Domestic</td>\n",
       "      <td>Domestic</td>\n",
       "    </tr>\n",
       "    <tr>\n",
       "      <th>IsoCurrency</th>\n",
       "      <td>INR</td>\n",
       "      <td>INR</td>\n",
       "      <td>INR</td>\n",
       "      <td>INR</td>\n",
       "      <td>INR</td>\n",
       "    </tr>\n",
       "    <tr>\n",
       "      <th>Locality</th>\n",
       "      <td>Central Park II</td>\n",
       "      <td>Sector 4</td>\n",
       "      <td>Sector 49</td>\n",
       "      <td>Central Park II</td>\n",
       "      <td>Central Park II</td>\n",
       "    </tr>\n",
       "    <tr>\n",
       "      <th>City</th>\n",
       "      <td>Gurugram</td>\n",
       "      <td>Gurugram</td>\n",
       "      <td>Gurugram</td>\n",
       "      <td>Gurugram</td>\n",
       "      <td>Gurugram</td>\n",
       "    </tr>\n",
       "    <tr>\n",
       "      <th>State</th>\n",
       "      <td>Haryana</td>\n",
       "      <td>Haryana</td>\n",
       "      <td>Haryana</td>\n",
       "      <td>Haryana</td>\n",
       "      <td>Haryana</td>\n",
       "    </tr>\n",
       "    <tr>\n",
       "      <th>Country</th>\n",
       "      <td>India</td>\n",
       "      <td>India</td>\n",
       "      <td>India</td>\n",
       "      <td>India</td>\n",
       "      <td>India</td>\n",
       "    </tr>\n",
       "    <tr>\n",
       "      <th>Unnamed: 12</th>\n",
       "      <td>NaN</td>\n",
       "      <td>NaN</td>\n",
       "      <td>NaN</td>\n",
       "      <td>NaN</td>\n",
       "      <td>NaN</td>\n",
       "    </tr>\n",
       "  </tbody>\n",
       "</table>\n",
       "</div>"
      ],
      "text/plain": [
       "                                                                              0  ...                                                  4\n",
       "Date                                                                 12/12/2019  ...                                         12/12/2019\n",
       "Description                   THE ROOM               GURGAON                ...  ...  THE ROOM               GURGAON                ...\n",
       "InternationTransactionAmount                                                  0  ...                                                  0\n",
       "Category                                                             Video game  ...                                         Video game\n",
       "Amount                                                                     -127  ...                                                -50\n",
       "TransactionUserName                                               VIBHORE GOYAL  ...                                      VIBHORE GOYAL\n",
       "TransactionType                                                        Domestic  ...                                           Domestic\n",
       "IsoCurrency                                                                 INR  ...                                                INR\n",
       "Locality                                                        Central Park II  ...                                    Central Park II\n",
       "City                                                                   Gurugram  ...                                           Gurugram\n",
       "State                                                                   Haryana  ...                                            Haryana\n",
       "Country                                                                   India  ...                                              India\n",
       "Unnamed: 12                                                                 NaN  ...                                                NaN\n",
       "\n",
       "[13 rows x 5 columns]"
      ]
     },
     "execution_count": 8,
     "metadata": {
      "tags": []
     },
     "output_type": "execute_result"
    }
   ],
   "source": [
    "dataframe_1.head().T"
   ]
  },
  {
   "cell_type": "code",
   "execution_count": 9,
   "metadata": {
    "colab": {
     "base_uri": "https://localhost:8080/",
     "height": 451
    },
    "executionInfo": {
     "elapsed": 86,
     "status": "ok",
     "timestamp": 1623413319000,
     "user": {
      "displayName": "Aravindh Ravi",
      "photoUrl": "https://lh3.googleusercontent.com/a-/AOh14Gg6EpUJbxfaJau7GuJhLzctW6s9to-RMtRufFl2yw=s64",
      "userId": "01057670441275100003"
     },
     "user_tz": -330
    },
    "id": "UWcckhXzcNVP",
    "outputId": "21443c2c-bd12-4453-8418-6ddcf9651f1c"
   },
   "outputs": [
    {
     "data": {
      "text/html": [
       "<div>\n",
       "<style scoped>\n",
       "    .dataframe tbody tr th:only-of-type {\n",
       "        vertical-align: middle;\n",
       "    }\n",
       "\n",
       "    .dataframe tbody tr th {\n",
       "        vertical-align: top;\n",
       "    }\n",
       "\n",
       "    .dataframe thead th {\n",
       "        text-align: right;\n",
       "    }\n",
       "</style>\n",
       "<table border=\"1\" class=\"dataframe\">\n",
       "  <thead>\n",
       "    <tr style=\"text-align: right;\">\n",
       "      <th></th>\n",
       "      <th>1465</th>\n",
       "      <th>1466</th>\n",
       "      <th>1467</th>\n",
       "      <th>1468</th>\n",
       "      <th>1469</th>\n",
       "    </tr>\n",
       "  </thead>\n",
       "  <tbody>\n",
       "    <tr>\n",
       "      <th>Date</th>\n",
       "      <td>6/7/2019</td>\n",
       "      <td>7/7/2019</td>\n",
       "      <td>7/7/2019</td>\n",
       "      <td>7/7/2019</td>\n",
       "      <td>11/7/2019</td>\n",
       "    </tr>\n",
       "    <tr>\n",
       "      <th>Description</th>\n",
       "      <td>KFC SEC 47 SOHNA ROAD GGURGAON                ...</td>\n",
       "      <td>SPICEJET LIMITEDGURGAON                       ...</td>\n",
       "      <td>CAFE COFFEE DAYILD TRADE                      ...</td>\n",
       "      <td>SHOPPERS STOP LTD      GURGAON                ...</td>\n",
       "      <td>TATA INDICOM-DOCOMOMUMBAI                     ...</td>\n",
       "    </tr>\n",
       "    <tr>\n",
       "      <th>InternationTransactionAmount</th>\n",
       "      <td>0</td>\n",
       "      <td>0</td>\n",
       "      <td>0</td>\n",
       "      <td>0</td>\n",
       "      <td>0</td>\n",
       "    </tr>\n",
       "    <tr>\n",
       "      <th>Category</th>\n",
       "      <td>Fast food restaurant company</td>\n",
       "      <td>Airline</td>\n",
       "      <td>Cafe company</td>\n",
       "      <td>Department store company</td>\n",
       "      <td>Former President of South Africa</td>\n",
       "    </tr>\n",
       "    <tr>\n",
       "      <th>Amount</th>\n",
       "      <td>-120</td>\n",
       "      <td>-1798</td>\n",
       "      <td>-298</td>\n",
       "      <td>-1852</td>\n",
       "      <td>-1297</td>\n",
       "    </tr>\n",
       "    <tr>\n",
       "      <th>TransactionUserName</th>\n",
       "      <td>VIBHORE GOYAL</td>\n",
       "      <td>VIBHORE GOYAL</td>\n",
       "      <td>VIBHORE GOYAL</td>\n",
       "      <td>JASJIT KAUR</td>\n",
       "      <td>VIBHORE GOYAL</td>\n",
       "    </tr>\n",
       "    <tr>\n",
       "      <th>TransactionType</th>\n",
       "      <td>Domestic</td>\n",
       "      <td>Domestic</td>\n",
       "      <td>Domestic</td>\n",
       "      <td>Domestic</td>\n",
       "      <td>Domestic</td>\n",
       "    </tr>\n",
       "    <tr>\n",
       "      <th>IsoCurrency</th>\n",
       "      <td>INR</td>\n",
       "      <td>INR</td>\n",
       "      <td>INR</td>\n",
       "      <td>INR</td>\n",
       "      <td>INR</td>\n",
       "    </tr>\n",
       "    <tr>\n",
       "      <th>Locality</th>\n",
       "      <td>D1 Block</td>\n",
       "      <td>Phase III</td>\n",
       "      <td>Sohna Road</td>\n",
       "      <td>Heritage City</td>\n",
       "      <td>Mahim</td>\n",
       "    </tr>\n",
       "    <tr>\n",
       "      <th>City</th>\n",
       "      <td>Gurugram</td>\n",
       "      <td>Gurugram</td>\n",
       "      <td>Gurugram</td>\n",
       "      <td>Gurugram</td>\n",
       "      <td>Mumbai</td>\n",
       "    </tr>\n",
       "    <tr>\n",
       "      <th>State</th>\n",
       "      <td>Haryana</td>\n",
       "      <td>Haryana</td>\n",
       "      <td>Haryana</td>\n",
       "      <td>Haryana</td>\n",
       "      <td>Maharashtra</td>\n",
       "    </tr>\n",
       "    <tr>\n",
       "      <th>Country</th>\n",
       "      <td>India</td>\n",
       "      <td>India</td>\n",
       "      <td>India</td>\n",
       "      <td>India</td>\n",
       "      <td>India</td>\n",
       "    </tr>\n",
       "    <tr>\n",
       "      <th>Unnamed: 12</th>\n",
       "      <td>NaN</td>\n",
       "      <td>NaN</td>\n",
       "      <td>NaN</td>\n",
       "      <td>NaN</td>\n",
       "      <td>NaN</td>\n",
       "    </tr>\n",
       "  </tbody>\n",
       "</table>\n",
       "</div>"
      ],
      "text/plain": [
       "                                                                           1465  ...                                               1469\n",
       "Date                                                                   6/7/2019  ...                                          11/7/2019\n",
       "Description                   KFC SEC 47 SOHNA ROAD GGURGAON                ...  ...  TATA INDICOM-DOCOMOMUMBAI                     ...\n",
       "InternationTransactionAmount                                                  0  ...                                                  0\n",
       "Category                                           Fast food restaurant company  ...                   Former President of South Africa\n",
       "Amount                                                                     -120  ...                                              -1297\n",
       "TransactionUserName                                               VIBHORE GOYAL  ...                                      VIBHORE GOYAL\n",
       "TransactionType                                                        Domestic  ...                                           Domestic\n",
       "IsoCurrency                                                                 INR  ...                                                INR\n",
       "Locality                                                               D1 Block  ...                                              Mahim\n",
       "City                                                                   Gurugram  ...                                             Mumbai\n",
       "State                                                                   Haryana  ...                                        Maharashtra\n",
       "Country                                                                   India  ...                                              India\n",
       "Unnamed: 12                                                                 NaN  ...                                                NaN\n",
       "\n",
       "[13 rows x 5 columns]"
      ]
     },
     "execution_count": 9,
     "metadata": {
      "tags": []
     },
     "output_type": "execute_result"
    }
   ],
   "source": [
    "dataframe_1.tail().T"
   ]
  },
  {
   "cell_type": "code",
   "execution_count": 10,
   "metadata": {
    "colab": {
     "base_uri": "https://localhost:8080/",
     "height": 172
    },
    "executionInfo": {
     "elapsed": 85,
     "status": "ok",
     "timestamp": 1623413319001,
     "user": {
      "displayName": "Aravindh Ravi",
      "photoUrl": "https://lh3.googleusercontent.com/a-/AOh14Gg6EpUJbxfaJau7GuJhLzctW6s9to-RMtRufFl2yw=s64",
      "userId": "01057670441275100003"
     },
     "user_tz": -330
    },
    "id": "-YC36QKBcRAP",
    "outputId": "6a290283-53dd-41c7-8857-d7fc5e4bafcd"
   },
   "outputs": [
    {
     "data": {
      "text/html": [
       "<div>\n",
       "<style scoped>\n",
       "    .dataframe tbody tr th:only-of-type {\n",
       "        vertical-align: middle;\n",
       "    }\n",
       "\n",
       "    .dataframe tbody tr th {\n",
       "        vertical-align: top;\n",
       "    }\n",
       "\n",
       "    .dataframe thead th {\n",
       "        text-align: right;\n",
       "    }\n",
       "</style>\n",
       "<table border=\"1\" class=\"dataframe\">\n",
       "  <thead>\n",
       "    <tr style=\"text-align: right;\">\n",
       "      <th></th>\n",
       "      <th>Date</th>\n",
       "      <th>Description</th>\n",
       "      <th>InternationTransactionAmount</th>\n",
       "      <th>Category</th>\n",
       "      <th>Amount</th>\n",
       "      <th>TransactionUserName</th>\n",
       "      <th>TransactionType</th>\n",
       "      <th>IsoCurrency</th>\n",
       "      <th>Locality</th>\n",
       "      <th>City</th>\n",
       "      <th>State</th>\n",
       "      <th>Country</th>\n",
       "      <th>Unnamed: 12</th>\n",
       "    </tr>\n",
       "  </thead>\n",
       "  <tbody>\n",
       "    <tr>\n",
       "      <th>count</th>\n",
       "      <td>1470</td>\n",
       "      <td>1470</td>\n",
       "      <td>1470</td>\n",
       "      <td>1470</td>\n",
       "      <td>1470</td>\n",
       "      <td>1470</td>\n",
       "      <td>1470</td>\n",
       "      <td>1470</td>\n",
       "      <td>1302</td>\n",
       "      <td>1270</td>\n",
       "      <td>1245</td>\n",
       "      <td>1307</td>\n",
       "      <td>4</td>\n",
       "    </tr>\n",
       "    <tr>\n",
       "      <th>unique</th>\n",
       "      <td>408</td>\n",
       "      <td>495</td>\n",
       "      <td>35</td>\n",
       "      <td>153</td>\n",
       "      <td>991</td>\n",
       "      <td>7</td>\n",
       "      <td>4</td>\n",
       "      <td>5</td>\n",
       "      <td>186</td>\n",
       "      <td>41</td>\n",
       "      <td>21</td>\n",
       "      <td>7</td>\n",
       "      <td>1</td>\n",
       "    </tr>\n",
       "    <tr>\n",
       "      <th>top</th>\n",
       "      <td>1/8/2019</td>\n",
       "      <td>THE ROOM               GURGAON                ...</td>\n",
       "      <td>0</td>\n",
       "      <td></td>\n",
       "      <td>-50</td>\n",
       "      <td>JASJIT KAUR</td>\n",
       "      <td>Domestic</td>\n",
       "      <td>INR</td>\n",
       "      <td>Central Park II</td>\n",
       "      <td>Gurugram</td>\n",
       "      <td>Haryana</td>\n",
       "      <td>India</td>\n",
       "      <td>India</td>\n",
       "    </tr>\n",
       "    <tr>\n",
       "      <th>freq</th>\n",
       "      <td>13</td>\n",
       "      <td>122</td>\n",
       "      <td>1436</td>\n",
       "      <td>508</td>\n",
       "      <td>25</td>\n",
       "      <td>755</td>\n",
       "      <td>1433</td>\n",
       "      <td>1433</td>\n",
       "      <td>227</td>\n",
       "      <td>930</td>\n",
       "      <td>935</td>\n",
       "      <td>1260</td>\n",
       "      <td>4</td>\n",
       "    </tr>\n",
       "  </tbody>\n",
       "</table>\n",
       "</div>"
      ],
      "text/plain": [
       "            Date  ... Unnamed: 12\n",
       "count       1470  ...           4\n",
       "unique       408  ...           1\n",
       "top     1/8/2019  ...       India\n",
       "freq          13  ...           4\n",
       "\n",
       "[4 rows x 13 columns]"
      ]
     },
     "execution_count": 10,
     "metadata": {
      "tags": []
     },
     "output_type": "execute_result"
    }
   ],
   "source": [
    "dataframe_1.describe()"
   ]
  },
  {
   "cell_type": "code",
   "execution_count": 11,
   "metadata": {
    "colab": {
     "base_uri": "https://localhost:8080/"
    },
    "executionInfo": {
     "elapsed": 84,
     "status": "ok",
     "timestamp": 1623413319002,
     "user": {
      "displayName": "Aravindh Ravi",
      "photoUrl": "https://lh3.googleusercontent.com/a-/AOh14Gg6EpUJbxfaJau7GuJhLzctW6s9to-RMtRufFl2yw=s64",
      "userId": "01057670441275100003"
     },
     "user_tz": -330
    },
    "id": "MCuGFvE_h6d6",
    "outputId": "b952ebfd-6550-439a-efca-8323b31beedc"
   },
   "outputs": [
    {
     "data": {
      "text/plain": [
       "Date                            object\n",
       "Description                     object\n",
       "InternationTransactionAmount    object\n",
       "Category                        object\n",
       "Amount                          object\n",
       "TransactionUserName             object\n",
       "TransactionType                 object\n",
       "IsoCurrency                     object\n",
       "Locality                        object\n",
       "City                            object\n",
       "State                           object\n",
       "Country                         object\n",
       "Unnamed: 12                     object\n",
       "dtype: object"
      ]
     },
     "execution_count": 11,
     "metadata": {
      "tags": []
     },
     "output_type": "execute_result"
    }
   ],
   "source": [
    "dataframe_1.dtypes"
   ]
  },
  {
   "cell_type": "code",
   "execution_count": 12,
   "metadata": {
    "colab": {
     "base_uri": "https://localhost:8080/"
    },
    "executionInfo": {
     "elapsed": 81,
     "status": "ok",
     "timestamp": 1623413319003,
     "user": {
      "displayName": "Aravindh Ravi",
      "photoUrl": "https://lh3.googleusercontent.com/a-/AOh14Gg6EpUJbxfaJau7GuJhLzctW6s9to-RMtRufFl2yw=s64",
      "userId": "01057670441275100003"
     },
     "user_tz": -330
    },
    "id": "ecIo7YQNdcMd",
    "outputId": "3f663b18-c157-4d8e-9a31-049f713b6220"
   },
   "outputs": [
    {
     "data": {
      "text/plain": [
       "Date                               0\n",
       "Description                        0\n",
       "InternationTransactionAmount       0\n",
       "Category                           0\n",
       "Amount                             0\n",
       "TransactionUserName                0\n",
       "TransactionType                    0\n",
       "IsoCurrency                        0\n",
       "Locality                         168\n",
       "City                             200\n",
       "State                            225\n",
       "Country                          163\n",
       "Unnamed: 12                     1466\n",
       "dtype: int64"
      ]
     },
     "execution_count": 12,
     "metadata": {
      "tags": []
     },
     "output_type": "execute_result"
    }
   ],
   "source": [
    "dataframe_1.isnull().sum()"
   ]
  },
  {
   "cell_type": "markdown",
   "metadata": {
    "id": "bCHL1nS5d85n"
   },
   "source": []
  },
  {
   "cell_type": "code",
   "execution_count": 13,
   "metadata": {
    "colab": {
     "base_uri": "https://localhost:8080/"
    },
    "executionInfo": {
     "elapsed": 80,
     "status": "ok",
     "timestamp": 1623413319004,
     "user": {
      "displayName": "Aravindh Ravi",
      "photoUrl": "https://lh3.googleusercontent.com/a-/AOh14Gg6EpUJbxfaJau7GuJhLzctW6s9to-RMtRufFl2yw=s64",
      "userId": "01057670441275100003"
     },
     "user_tz": -330
    },
    "id": "goDV1DfKd3Cl",
    "outputId": "16a60bce-73c0-46c9-855f-1e491451490f"
   },
   "outputs": [
    {
     "name": "stdout",
     "output_type": "stream",
     "text": [
      "Total Null values present in Locality Column:  168\n",
      "['Central Park II' 'Sector 4' 'Sector 49' 'Sector 9' nan 'Durgadas Colony'\n",
      " 'Jaipur' 'Subash Nagar' 'Bapu Nagar' 'Sector 50' '3rd Block' 'Sector 42'\n",
      " 'Galleria Market' 'Dundahera Village' 'South City II' 'DLF Colony'\n",
      " 'Pocket H' 'DLF Phase 2' 'Pocket C' 'Heritage City' 'BNR Colony'\n",
      " 'Nirvana Country' 'Jubilee Hills' 'F Block' 'Ambience Island'\n",
      " 'New Mhada Colony' 'Saraswati Vihar' 'Gurgaon' 'Mumbai'\n",
      " 'New Airport Colony' 'South Extension' 'Orchid Petals' 'DLF Phase 1'\n",
      " 'Sector 56' 'Block S' 'Block A' 'Malibu Town' 'Maruti Housing Colony'\n",
      " 'Jalvayu Towers' 'अम्बिएंस आइलैंड' 'Bhagirath Palace' 'Sector 29'\n",
      " 'Sikanderpur' 'Shastri Nagar' 'A Block' 'Suncity' 'Block 11'\n",
      " 'Wilayah Persekutuan' 'DLF Phase 5' 'Saket District Centre' 'Rajiv Nagar'\n",
      " 'Sector 37B' 'Mount Vernon' 'D1 Block' 'Sector 14' 'Sohna Road' 'INR'\n",
      " 'Ashok Nagar' 'Outram' 'Bishan' 'Jurong East' 'Downtown Core'\n",
      " 'Nemi Nagar Extension' 'South City I' 'Acharya Puri Extension' 'Phase 9'\n",
      " 'Chandigarh' 'Flushing' 'Veera Desai Industrial Estate'\n",
      " 'Tugalpur Village' 'Sitapura Industrial Area' 'Pink City'\n",
      " 'Ahluwalia Mohalla' 'Haji Ali' 'Bamanpuri' 'Vishwakarma Industrial Area'\n",
      " 'Khan Market' 'Block H' 'South West Delhi' 'Bani Park' 'Madrampur'\n",
      " 'Tatvam Villas' 'Geejgarh Vihar Colony' 'Hawa Sadak' 'Block E'\n",
      " 'New Colony' 'Old Delhi' 'Vaikuntam Layout' 'Ballard Estate'\n",
      " 'Amrut Nagar' 'Navpada' 'Mariyyman Nagar' 'Manhattan' 'Singapore River'\n",
      " 'Tampines' 'Changi' 'Tanglin' 'Factory Area' 'G Block BKC' 'Janpath'\n",
      " 'Mahim' 'Dera Mandi' 'Vaishali Nagar' 'Daulatabad' 'Nariman Point'\n",
      " 'New Gurgaon' 'New Delhi' 'Civil Lines' 'DLF City' 'Apollo Bandar'\n",
      " 'Uppal Southend' 'Sector 3' 'Jai Jawan-2' 'Malviya Nagar' 'D-Block'\n",
      " 'Near Trimurti Circle' 'Phase III' 'Pani Pech' 'Kapas Hera Extension'\n",
      " 'Alwar' 'Gautam Nagar' 'Pocket E' 'Garden Estate' 'Far West Side'\n",
      " 'Industrial Area' 'Gom Defence Colony' 'Hall Gate' 'Sukhrali'\n",
      " 'Islampur Village' 'Nambardar Market' 'Sindhi Camp' 'Aldeia de Goa'\n",
      " 'South Goa' 'National Capital Region' 'Maple Leaf' 'DLF Cyber City'\n",
      " 'Yawantika Colony' 'Sector 24' 'Saraswati Nagar Extension' 'Sector 118'\n",
      " 'Nasrali' 'Gurdev Nagar' 'New Rajeev Gandhi Nagar' 'New Market Area'\n",
      " 'Kirti Nagar' 'Sanganer' 'Block C' 'Vigyan Vihar' 'Block B'\n",
      " 'Near Club Cubana' 'Sector 31' 'North Hollywood' 'U Block' 'Sector 52A'\n",
      " 'Urban Estate' 'Fatehgarh Sahib' 'Preet Nagar' 'Bridge Market'\n",
      " 'Sector 117' 'Sanjay colony' 'Phase V' 'C Scheme' 'Nirman Nagar'\n",
      " 'Dharam Colony' 'Block K' 'Pasir Ris' 'Woodlands' 'Bukit Merah' 'Rochor'\n",
      " 'Geylang' 'Sector 83' 'Ber Sarai' 'Vatika City' 'Bhim Nagar'\n",
      " 'Kanti Nagar' 'Sector 21' 'D Block' 'Old Rajender Nagar'\n",
      " 'Shree Krishna Nagar' 'Parel' 'Parsvnath Exotica' 'Prem Nagar'\n",
      " 'Surat Nagar' 'LIG Colony' 'Teachers Colony' 'Central Secretariat'\n",
      " 'South Block']\n"
     ]
    }
   ],
   "source": [
    "print(\"Total Null values present in Locality Column: \", dataframe_1['Locality'].isnull().sum())\n",
    "print(dataframe_1['Locality'].unique())"
   ]
  },
  {
   "cell_type": "code",
   "execution_count": 14,
   "metadata": {
    "colab": {
     "base_uri": "https://localhost:8080/"
    },
    "executionInfo": {
     "elapsed": 78,
     "status": "ok",
     "timestamp": 1623413319005,
     "user": {
      "displayName": "Aravindh Ravi",
      "photoUrl": "https://lh3.googleusercontent.com/a-/AOh14Gg6EpUJbxfaJau7GuJhLzctW6s9to-RMtRufFl2yw=s64",
      "userId": "01057670441275100003"
     },
     "user_tz": -330
    },
    "id": "fUFtGkvPeIvy",
    "outputId": "ed612fdb-d32d-4e05-c64a-8b86ad82a694"
   },
   "outputs": [
    {
     "name": "stdout",
     "output_type": "stream",
     "text": [
      "Total Null values present in City Column:  200\n",
      "['Gurugram' 'Jaipur' nan 'Bengaluru' 'Hyderabad' 'Haryana' 'Noida'\n",
      " 'Mumbai' 'New Delhi' 'गुरुग्राम' 'Sarhol' 'Kuala Lumpur' 'Alexandria'\n",
      " 'Singapore' 'Chandigarh' 'Sahibzada Ajit Singh Nagar' 'Greater Noida'\n",
      " 'Khanna' 'New York' 'Patiala' 'Block S' 'Paota' 'Alwar' 'San Antonio'\n",
      " 'Kukas' 'Amritsar' 'Bambolim' 'Dabolim' 'Seattle' 'Gurdaspur'\n",
      " 'Mandi Gobindgarh' 'Ludhiana' 'D1 Block' 'Kota' 'Kolkata' 'Civil Lines'\n",
      " 'Ghata' 'Arpora' 'Los Angeles' 'Faridabad' 'Fatehgarh Sahib' 'Sepang']\n"
     ]
    }
   ],
   "source": [
    "print(\"Total Null values present in City Column: \", dataframe_1['City'].isnull().sum())\n",
    "print(dataframe_1['City'].unique())"
   ]
  },
  {
   "cell_type": "code",
   "execution_count": 15,
   "metadata": {
    "colab": {
     "base_uri": "https://localhost:8080/"
    },
    "executionInfo": {
     "elapsed": 75,
     "status": "ok",
     "timestamp": 1623413319006,
     "user": {
      "displayName": "Aravindh Ravi",
      "photoUrl": "https://lh3.googleusercontent.com/a-/AOh14Gg6EpUJbxfaJau7GuJhLzctW6s9to-RMtRufFl2yw=s64",
      "userId": "01057670441275100003"
     },
     "user_tz": -330
    },
    "id": "SFIB0LfsipHb",
    "outputId": "eee5204b-e54b-4a99-cd21-73ec42ab27b0"
   },
   "outputs": [
    {
     "name": "stdout",
     "output_type": "stream",
     "text": [
      "Total Null values present in State Column:  225\n",
      "['Haryana' 'Rajasthan' nan 'Karnataka' 'Telangana' 'Uttar Pradesh'\n",
      " 'Maharashtra' 'Delhi' 'हरियाणा' 'Wilayah Persekutuan Kuala Lumpur'\n",
      " 'Virginia' 'Punjab' 'New York' 'Gurugram' 'Texas' 'Goa' 'Washington'\n",
      " 'West Bengal' 'Jaipur' 'California' 'Chandigarh' 'Selangor']\n"
     ]
    }
   ],
   "source": [
    "print(\"Total Null values present in State Column: \", dataframe_1['State'].isnull().sum())\n",
    "print(dataframe_1['State'].unique())"
   ]
  },
  {
   "cell_type": "code",
   "execution_count": 16,
   "metadata": {
    "colab": {
     "base_uri": "https://localhost:8080/"
    },
    "executionInfo": {
     "elapsed": 73,
     "status": "ok",
     "timestamp": 1623413319007,
     "user": {
      "displayName": "Aravindh Ravi",
      "photoUrl": "https://lh3.googleusercontent.com/a-/AOh14Gg6EpUJbxfaJau7GuJhLzctW6s9to-RMtRufFl2yw=s64",
      "userId": "01057670441275100003"
     },
     "user_tz": -330
    },
    "id": "SY2yF-Tsi3Pg",
    "outputId": "f4a133f1-d9c4-4fe2-8fe3-17b61190b7c4"
   },
   "outputs": [
    {
     "name": "stdout",
     "output_type": "stream",
     "text": [
      "Total Null values present in Country Column:  163\n",
      "['India' nan 'Malaysia' 'United States' 'Delhi' 'Singapore' 'Haryana'\n",
      " 'Rajasthan']\n"
     ]
    }
   ],
   "source": [
    "print(\"Total Null values present in Country Column: \", dataframe_1['Country'].isnull().sum())\n",
    "print(dataframe_1['Country'].unique())"
   ]
  },
  {
   "cell_type": "code",
   "execution_count": 17,
   "metadata": {
    "colab": {
     "base_uri": "https://localhost:8080/",
     "height": 587
    },
    "executionInfo": {
     "elapsed": 72,
     "status": "ok",
     "timestamp": 1623413319008,
     "user": {
      "displayName": "Aravindh Ravi",
      "photoUrl": "https://lh3.googleusercontent.com/a-/AOh14Gg6EpUJbxfaJau7GuJhLzctW6s9to-RMtRufFl2yw=s64",
      "userId": "01057670441275100003"
     },
     "user_tz": -330
    },
    "id": "yg4D3LqnjKf9",
    "outputId": "1df64ccf-221b-4620-ccd9-c550b78a0ec3"
   },
   "outputs": [
    {
     "data": {
      "text/html": [
       "<div>\n",
       "<style scoped>\n",
       "    .dataframe tbody tr th:only-of-type {\n",
       "        vertical-align: middle;\n",
       "    }\n",
       "\n",
       "    .dataframe tbody tr th {\n",
       "        vertical-align: top;\n",
       "    }\n",
       "\n",
       "    .dataframe thead th {\n",
       "        text-align: right;\n",
       "    }\n",
       "</style>\n",
       "<table border=\"1\" class=\"dataframe\">\n",
       "  <thead>\n",
       "    <tr style=\"text-align: right;\">\n",
       "      <th></th>\n",
       "      <th>Description</th>\n",
       "      <th>InternationTransactionAmount</th>\n",
       "      <th>Category</th>\n",
       "      <th>Amount</th>\n",
       "      <th>TransactionUserName</th>\n",
       "      <th>TransactionType</th>\n",
       "      <th>IsoCurrency</th>\n",
       "      <th>Locality</th>\n",
       "      <th>City</th>\n",
       "      <th>State</th>\n",
       "      <th>Country</th>\n",
       "      <th>Unnamed: 12</th>\n",
       "      <th>date_parsed</th>\n",
       "    </tr>\n",
       "  </thead>\n",
       "  <tbody>\n",
       "    <tr>\n",
       "      <th>0</th>\n",
       "      <td>THE ROOM               GURGAON                ...</td>\n",
       "      <td>0</td>\n",
       "      <td>Video game</td>\n",
       "      <td>-127</td>\n",
       "      <td>VIBHORE GOYAL</td>\n",
       "      <td>Domestic</td>\n",
       "      <td>INR</td>\n",
       "      <td>Central Park II</td>\n",
       "      <td>Gurugram</td>\n",
       "      <td>Haryana</td>\n",
       "      <td>India</td>\n",
       "      <td>NaN</td>\n",
       "      <td>2019-12-12</td>\n",
       "    </tr>\n",
       "    <tr>\n",
       "      <th>1</th>\n",
       "      <td>CUT AND STYLEGURGAON                          ...</td>\n",
       "      <td>0</td>\n",
       "      <td>Occupation</td>\n",
       "      <td>-499</td>\n",
       "      <td>JASJIT KAUR</td>\n",
       "      <td>Domestic</td>\n",
       "      <td>INR</td>\n",
       "      <td>Sector 4</td>\n",
       "      <td>Gurugram</td>\n",
       "      <td>Haryana</td>\n",
       "      <td>India</td>\n",
       "      <td>NaN</td>\n",
       "      <td>2019-12-12</td>\n",
       "    </tr>\n",
       "    <tr>\n",
       "      <th>2</th>\n",
       "      <td>MUMUSOGURGAON                                 ...</td>\n",
       "      <td>0</td>\n",
       "      <td></td>\n",
       "      <td>-388</td>\n",
       "      <td>JASJIT KAUR</td>\n",
       "      <td>Domestic</td>\n",
       "      <td>INR</td>\n",
       "      <td>Sector 49</td>\n",
       "      <td>Gurugram</td>\n",
       "      <td>Haryana</td>\n",
       "      <td>India</td>\n",
       "      <td>NaN</td>\n",
       "      <td>2019-12-12</td>\n",
       "    </tr>\n",
       "    <tr>\n",
       "      <th>3</th>\n",
       "      <td>THE ROOM               GURGAON                ...</td>\n",
       "      <td>0</td>\n",
       "      <td>Video game</td>\n",
       "      <td>-108</td>\n",
       "      <td>VIBHORE GOYAL</td>\n",
       "      <td>Domestic</td>\n",
       "      <td>INR</td>\n",
       "      <td>Central Park II</td>\n",
       "      <td>Gurugram</td>\n",
       "      <td>Haryana</td>\n",
       "      <td>India</td>\n",
       "      <td>NaN</td>\n",
       "      <td>2019-12-12</td>\n",
       "    </tr>\n",
       "    <tr>\n",
       "      <th>4</th>\n",
       "      <td>THE ROOM               GURGAON                ...</td>\n",
       "      <td>0</td>\n",
       "      <td>Video game</td>\n",
       "      <td>-50</td>\n",
       "      <td>VIBHORE GOYAL</td>\n",
       "      <td>Domestic</td>\n",
       "      <td>INR</td>\n",
       "      <td>Central Park II</td>\n",
       "      <td>Gurugram</td>\n",
       "      <td>Haryana</td>\n",
       "      <td>India</td>\n",
       "      <td>NaN</td>\n",
       "      <td>2019-12-12</td>\n",
       "    </tr>\n",
       "    <tr>\n",
       "      <th>...</th>\n",
       "      <td>...</td>\n",
       "      <td>...</td>\n",
       "      <td>...</td>\n",
       "      <td>...</td>\n",
       "      <td>...</td>\n",
       "      <td>...</td>\n",
       "      <td>...</td>\n",
       "      <td>...</td>\n",
       "      <td>...</td>\n",
       "      <td>...</td>\n",
       "      <td>...</td>\n",
       "      <td>...</td>\n",
       "      <td>...</td>\n",
       "    </tr>\n",
       "    <tr>\n",
       "      <th>1465</th>\n",
       "      <td>KFC SEC 47 SOHNA ROAD GGURGAON                ...</td>\n",
       "      <td>0</td>\n",
       "      <td>Fast food restaurant company</td>\n",
       "      <td>-120</td>\n",
       "      <td>VIBHORE GOYAL</td>\n",
       "      <td>Domestic</td>\n",
       "      <td>INR</td>\n",
       "      <td>D1 Block</td>\n",
       "      <td>Gurugram</td>\n",
       "      <td>Haryana</td>\n",
       "      <td>India</td>\n",
       "      <td>NaN</td>\n",
       "      <td>2019-07-06</td>\n",
       "    </tr>\n",
       "    <tr>\n",
       "      <th>1466</th>\n",
       "      <td>SPICEJET LIMITEDGURGAON                       ...</td>\n",
       "      <td>0</td>\n",
       "      <td>Airline</td>\n",
       "      <td>-1798</td>\n",
       "      <td>VIBHORE GOYAL</td>\n",
       "      <td>Domestic</td>\n",
       "      <td>INR</td>\n",
       "      <td>Phase III</td>\n",
       "      <td>Gurugram</td>\n",
       "      <td>Haryana</td>\n",
       "      <td>India</td>\n",
       "      <td>NaN</td>\n",
       "      <td>2019-07-07</td>\n",
       "    </tr>\n",
       "    <tr>\n",
       "      <th>1467</th>\n",
       "      <td>CAFE COFFEE DAYILD TRADE                      ...</td>\n",
       "      <td>0</td>\n",
       "      <td>Cafe company</td>\n",
       "      <td>-298</td>\n",
       "      <td>VIBHORE GOYAL</td>\n",
       "      <td>Domestic</td>\n",
       "      <td>INR</td>\n",
       "      <td>Sohna Road</td>\n",
       "      <td>Gurugram</td>\n",
       "      <td>Haryana</td>\n",
       "      <td>India</td>\n",
       "      <td>NaN</td>\n",
       "      <td>2019-07-07</td>\n",
       "    </tr>\n",
       "    <tr>\n",
       "      <th>1468</th>\n",
       "      <td>SHOPPERS STOP LTD      GURGAON                ...</td>\n",
       "      <td>0</td>\n",
       "      <td>Department store company</td>\n",
       "      <td>-1852</td>\n",
       "      <td>JASJIT KAUR</td>\n",
       "      <td>Domestic</td>\n",
       "      <td>INR</td>\n",
       "      <td>Heritage City</td>\n",
       "      <td>Gurugram</td>\n",
       "      <td>Haryana</td>\n",
       "      <td>India</td>\n",
       "      <td>NaN</td>\n",
       "      <td>2019-07-07</td>\n",
       "    </tr>\n",
       "    <tr>\n",
       "      <th>1469</th>\n",
       "      <td>TATA INDICOM-DOCOMOMUMBAI                     ...</td>\n",
       "      <td>0</td>\n",
       "      <td>Former President of South Africa</td>\n",
       "      <td>-1297</td>\n",
       "      <td>VIBHORE GOYAL</td>\n",
       "      <td>Domestic</td>\n",
       "      <td>INR</td>\n",
       "      <td>Mahim</td>\n",
       "      <td>Mumbai</td>\n",
       "      <td>Maharashtra</td>\n",
       "      <td>India</td>\n",
       "      <td>NaN</td>\n",
       "      <td>2019-07-11</td>\n",
       "    </tr>\n",
       "  </tbody>\n",
       "</table>\n",
       "<p>1470 rows × 13 columns</p>\n",
       "</div>"
      ],
      "text/plain": [
       "                                            Description  ... date_parsed\n",
       "0     THE ROOM               GURGAON                ...  ...  2019-12-12\n",
       "1     CUT AND STYLEGURGAON                          ...  ...  2019-12-12\n",
       "2     MUMUSOGURGAON                                 ...  ...  2019-12-12\n",
       "3     THE ROOM               GURGAON                ...  ...  2019-12-12\n",
       "4     THE ROOM               GURGAON                ...  ...  2019-12-12\n",
       "...                                                 ...  ...         ...\n",
       "1465  KFC SEC 47 SOHNA ROAD GGURGAON                ...  ...  2019-07-06\n",
       "1466  SPICEJET LIMITEDGURGAON                       ...  ...  2019-07-07\n",
       "1467  CAFE COFFEE DAYILD TRADE                      ...  ...  2019-07-07\n",
       "1468  SHOPPERS STOP LTD      GURGAON                ...  ...  2019-07-07\n",
       "1469  TATA INDICOM-DOCOMOMUMBAI                     ...  ...  2019-07-11\n",
       "\n",
       "[1470 rows x 13 columns]"
      ]
     },
     "execution_count": 17,
     "metadata": {
      "tags": []
     },
     "output_type": "execute_result"
    }
   ],
   "source": [
    "dataframe_1['Date'] = dataframe_1.apply(lambda x: x['Date'].replace('-','/'), axis = 1)\n",
    "dataframe_1['date_parsed'] = pd.to_datetime(dataframe_1['Date'], format= \"%d/%m/%Y\" )\n",
    "\n",
    "# Date column is dropped \n",
    "dataframe_2 = dataframe_1.drop('Date', axis=1)\n",
    "dataframe_2"
   ]
  },
  {
   "cell_type": "code",
   "execution_count": 18,
   "metadata": {
    "colab": {
     "base_uri": "https://localhost:8080/"
    },
    "executionInfo": {
     "elapsed": 71,
     "status": "ok",
     "timestamp": 1623413319009,
     "user": {
      "displayName": "Aravindh Ravi",
      "photoUrl": "https://lh3.googleusercontent.com/a-/AOh14Gg6EpUJbxfaJau7GuJhLzctW6s9to-RMtRufFl2yw=s64",
      "userId": "01057670441275100003"
     },
     "user_tz": -330
    },
    "id": "b_5SdKKB_rNT",
    "outputId": "1329839a-c6c0-46cd-b3f6-3e831c8c9eb6"
   },
   "outputs": [
    {
     "name": "stdout",
     "output_type": "stream",
     "text": [
      "0       THE ROOM               GURGAON                ...\n",
      "1       CUT AND STYLEGURGAON                          ...\n",
      "2       MUMUSOGURGAON                                 ...\n",
      "3       THE ROOM               GURGAON                ...\n",
      "4       THE ROOM               GURGAON                ...\n",
      "                              ...                        \n",
      "1465    KFC SEC 47 SOHNA ROAD GGURGAON                ...\n",
      "1466    SPICEJET LIMITEDGURGAON                       ...\n",
      "1467    CAFE COFFEE DAYILD TRADE                      ...\n",
      "1468    SHOPPERS STOP LTD      GURGAON                ...\n",
      "1469    TATA INDICOM-DOCOMOMUMBAI                     ...\n",
      "Name: Description, Length: 1470, dtype: object\n",
      "The unique values present on Description Column:  495\n"
     ]
    }
   ],
   "source": [
    "print(dataframe_2['Description'])\n",
    "#print(dataframe_2['Description'].unique())\n",
    "print(\"The unique values present on Description Column: \", dataframe_2['Description'].nunique())"
   ]
  },
  {
   "cell_type": "markdown",
   "metadata": {
    "id": "xL4mqjSQARX4"
   },
   "source": [
    "### Analysing InternationTransactionAmount column"
   ]
  },
  {
   "cell_type": "code",
   "execution_count": 19,
   "metadata": {
    "colab": {
     "base_uri": "https://localhost:8080/"
    },
    "executionInfo": {
     "elapsed": 70,
     "status": "ok",
     "timestamp": 1623413319010,
     "user": {
      "displayName": "Aravindh Ravi",
      "photoUrl": "https://lh3.googleusercontent.com/a-/AOh14Gg6EpUJbxfaJau7GuJhLzctW6s9to-RMtRufFl2yw=s64",
      "userId": "01057670441275100003"
     },
     "user_tz": -330
    },
    "id": "Pm1Q4mECAnXq",
    "outputId": "7ed2917c-88a4-4ce3-eaf3-766272c051a7"
   },
   "outputs": [
    {
     "data": {
      "text/plain": [
       "array(['0', '36', ' F-2/7OKH  Delhi                                     ',\n",
       "       '669.74', '31.83', '183.95', '63.56', '1.95', '105', '84.7', '5',\n",
       "       '22.8', '778.74', '214.4', '14.4', '60.89', '65.33', '19.17',\n",
       "       '238.73', '12.3', '489.63', '61.77', '34.4', '209', '42', '274',\n",
       "       '8', '99.9', '80.8', '21.2', '95', '5.5', '13', '227', '368'],\n",
       "      dtype=object)"
      ]
     },
     "execution_count": 19,
     "metadata": {
      "tags": []
     },
     "output_type": "execute_result"
    }
   ],
   "source": [
    "dataframe_2['InternationTransactionAmount'].unique()"
   ]
  },
  {
   "cell_type": "code",
   "execution_count": 20,
   "metadata": {
    "colab": {
     "base_uri": "https://localhost:8080/"
    },
    "executionInfo": {
     "elapsed": 69,
     "status": "ok",
     "timestamp": 1623413319011,
     "user": {
      "displayName": "Aravindh Ravi",
      "photoUrl": "https://lh3.googleusercontent.com/a-/AOh14Gg6EpUJbxfaJau7GuJhLzctW6s9to-RMtRufFl2yw=s64",
      "userId": "01057670441275100003"
     },
     "user_tz": -330
    },
    "id": "9m_5nMIbCqRQ",
    "outputId": "8c322131-6f90-41bd-ffb7-02045f54c629"
   },
   "outputs": [
    {
     "name": "stderr",
     "output_type": "stream",
     "text": [
      "/usr/local/lib/python3.7/dist-packages/ipykernel_launcher.py:2: SettingWithCopyWarning: \n",
      "A value is trying to be set on a copy of a slice from a DataFrame.\n",
      "Try using .loc[row_indexer,col_indexer] = value instead\n",
      "\n",
      "See the caveats in the documentation: https://pandas.pydata.org/pandas-docs/stable/user_guide/indexing.html#returning-a-view-versus-a-copy\n",
      "  \n"
     ]
    }
   ],
   "source": [
    "dataframe_2 = dataframe_2[pd.to_numeric(dataframe_2['InternationTransactionAmount'],errors='coerce',downcast='float').notnull()]\n",
    "dataframe_2['InternationTransactionAmount'] = dataframe_2['InternationTransactionAmount'].astype('float')"
   ]
  },
  {
   "cell_type": "markdown",
   "metadata": {
    "id": "iq2lU-WVblE-"
   },
   "source": [
    "### Analysing Category Column"
   ]
  },
  {
   "cell_type": "code",
   "execution_count": 21,
   "metadata": {
    "colab": {
     "base_uri": "https://localhost:8080/"
    },
    "executionInfo": {
     "elapsed": 66,
     "status": "ok",
     "timestamp": 1623413319011,
     "user": {
      "displayName": "Aravindh Ravi",
      "photoUrl": "https://lh3.googleusercontent.com/a-/AOh14Gg6EpUJbxfaJau7GuJhLzctW6s9to-RMtRufFl2yw=s64",
      "userId": "01057670441275100003"
     },
     "user_tz": -330
    },
    "id": "ZTih1aHyKG78",
    "outputId": "fd12451e-58ec-4406-a32d-82498beb1304"
   },
   "outputs": [
    {
     "name": "stdout",
     "output_type": "stream",
     "text": [
      "['                    Video game' '                    Occupation'\n",
      " '                              ' '                 City in India'\n",
      " '                  Cafe company' '         New York City borough'\n",
      " '                        Plants' '                   Hotel brand'\n",
      " '    Electronics retail company' '           Ridesharing company'\n",
      " '                     1988 film' '                       Company'\n",
      " '                Indian actress' '   American television program'\n",
      " '            City in California' '           Health care company'\n",
      " '                          Band' '            E-commerce company'\n",
      " '           Fictional character' '            Restaurant company'\n",
      " '              City in New York' '                Cinema company'\n",
      " '             American minister' '                American actor'\n",
      " '                          Dish' '                Canadian model'\n",
      " '                     2015 film' '                 Radio station'\n",
      " '                        Animal' '             Fast food company'\n",
      " '               Political party' '                Retail company'\n",
      " '    Telecommunications company' '          Novel by Jules Verne'\n",
      " 'Former Chief Minister of Uttar Pradesh' '                   Corporation'\n",
      " '               Massif in Nepal' '                     Dog breed'\n",
      " '             Insurance company' '                Italian region'\n",
      " '          Novel by Jane Austen' '           Coffeehouse company'\n",
      " '                         Event' '  Fast food restaurant company'\n",
      " '      Department store company' '              Poem by Tulsidas'\n",
      " '             Indian researcher' '       Clothing retail company'\n",
      " '         International airline' '                  Private club'\n",
      " '                  Heavy bomber' '                Field of study'\n",
      " '                         Algae' '  Online food ordering company'\n",
      " '                Federal agency' '         Entertainment company'\n",
      " '                  Mobile phone' '               City in Algeria'\n",
      " '           Hospitality company' '        Ethno-linguistic group'\n",
      " '              American actress' '                         Pasta'\n",
      " '               Fashion company' '       Album by The Beach Boys'\n",
      " '                      Cocktail' '                 Hotel company'\n",
      " '    Canadian singer-songwriter' '               Railway company'\n",
      " '            Capital of the USA' '         Book by Alan Beaulieu'\n",
      " 'Former President of South Africa' '        Hardware store company'\n",
      " '                          Food' 'Multinational conglomerate company'\n",
      " '          Novel by Tamsyn Muir' '                 Song by Queen'\n",
      " '            Production company' '            Book by Eric Carle'\n",
      " '               Broadcast genre' '             Television series'\n",
      " '                       Airline' '             Cosmetics company'\n",
      " 'Mobile network provider company' '                     Newspaper'\n",
      " '                    Profession' '                   Hotel chain'\n",
      " '   Theatre in Taunton' '               American sitcom'\n",
      " 'Book by A. C. Bhaktivedanta Swami Prabhupada'\n",
      " '                   VFX company' '                     Operation'\n",
      " '       Indian television actor' '                      US State'\n",
      " '             Building function' '                     1993 film'\n",
      " '                     Continent' '                     1976 film'\n",
      " '                          Song' '             Indian film actor'\n",
      " '               Indian language' '                 Baseball team'\n",
      " '                 City in Spain' '   Board of education in India'\n",
      " '           Book by Jean Ferris' '              Car manufacturer'\n",
      " '         Book by Tavleen Singh' '         American-German model'\n",
      " '    American singer-songwriter' 'Former Governor General of Canada'\n",
      " '     Street in London' '                  Song by 4Joy'\n",
      " '             American director' '       Palace in Jaipur'\n",
      " '          Retail chain company' '                     2018 film'\n",
      " ' Multi-level marketing company' '                     1984 film'\n",
      " '       Book by Rudyard Kipling' '        Indian union territory'\n",
      " '                     2017 film' '         Book by Thomas Sowell'\n",
      " '                     2014 film' '        State-owned enterprise'\n",
      " '         American film actress' '                     1967 film'\n",
      " '                  Song by Devi' '            Television channel'\n",
      " '     Novel by Jonathan Maberry' '                     Festivity'\n",
      " '          Broadcasting service' '                    Footballer'\n",
      " '               Visual art form' '                     1989 film'\n",
      " '             Automotive marque' '        Song by Chris Costanzo'\n",
      " '                Oceanic trench' '          Malaysian footballer'\n",
      " '            Technology company' '                  Song by Rhye'\n",
      " '                          King' '         Song by The Botherers'\n",
      " '                Indian teacher' '                          Guru'\n",
      " '            Television company' '                        Agency'\n",
      " '                    Medication' '                     2001 film'\n",
      " '                  Indian actor' '           Supermarket company'\n",
      " '        Novel by Lewis Carroll' '             Chemical compound'\n",
      " '                 City in Japan']\n"
     ]
    }
   ],
   "source": [
    "print(dataframe_2['Category'].unique())\n"
   ]
  },
  {
   "cell_type": "code",
   "execution_count": 22,
   "metadata": {
    "colab": {
     "base_uri": "https://localhost:8080/"
    },
    "executionInfo": {
     "elapsed": 62,
     "status": "ok",
     "timestamp": 1623413319012,
     "user": {
      "displayName": "Aravindh Ravi",
      "photoUrl": "https://lh3.googleusercontent.com/a-/AOh14Gg6EpUJbxfaJau7GuJhLzctW6s9to-RMtRufFl2yw=s64",
      "userId": "01057670441275100003"
     },
     "user_tz": -330
    },
    "id": "gHnerVePZGE3",
    "outputId": "5aa25ccb-f23c-4eb3-8564-8a624825973a"
   },
   "outputs": [
    {
     "name": "stdout",
     "output_type": "stream",
     "text": [
      "The unqiue values that are present in Category Column: 152\n"
     ]
    }
   ],
   "source": [
    "print(\"The unqiue values that are present in Category Column:\", dataframe_2['Category'].nunique())\n"
   ]
  },
  {
   "cell_type": "code",
   "execution_count": 23,
   "metadata": {
    "colab": {
     "base_uri": "https://localhost:8080/"
    },
    "executionInfo": {
     "elapsed": 61,
     "status": "ok",
     "timestamp": 1623413319012,
     "user": {
      "displayName": "Aravindh Ravi",
      "photoUrl": "https://lh3.googleusercontent.com/a-/AOh14Gg6EpUJbxfaJau7GuJhLzctW6s9to-RMtRufFl2yw=s64",
      "userId": "01057670441275100003"
     },
     "user_tz": -330
    },
    "id": "zVo1jSItbt7l",
    "outputId": "eca185ca-7451-48f5-a8a0-c1a0a8f40c7e"
   },
   "outputs": [
    {
     "name": "stdout",
     "output_type": "stream",
     "text": [
      "                                          508\n",
      "                  Cafe company            147\n",
      "                    Video game            125\n",
      "                       Company             49\n",
      "                   Hotel brand             40\n",
      "                                         ... \n",
      "                   VFX company              1\n",
      "           Health care company              1\n",
      "                 City in Japan              1\n",
      "                  Song by Devi              1\n",
      "Former Chief Minister of Uttar Pradesh      1\n",
      "Name: Category, Length: 152, dtype: int64\n"
     ]
    }
   ],
   "source": [
    "print(dataframe_2['Category'].value_counts())"
   ]
  },
  {
   "cell_type": "code",
   "execution_count": 23,
   "metadata": {
    "executionInfo": {
     "elapsed": 61,
     "status": "ok",
     "timestamp": 1623413319013,
     "user": {
      "displayName": "Aravindh Ravi",
      "photoUrl": "https://lh3.googleusercontent.com/a-/AOh14Gg6EpUJbxfaJau7GuJhLzctW6s9to-RMtRufFl2yw=s64",
      "userId": "01057670441275100003"
     },
     "user_tz": -330
    },
    "id": "EmdCIJe7buhp"
   },
   "outputs": [],
   "source": []
  },
  {
   "cell_type": "markdown",
   "metadata": {
    "id": "8faKggvvbwyO"
   },
   "source": [
    "### Analysing Amount Column"
   ]
  },
  {
   "cell_type": "code",
   "execution_count": 24,
   "metadata": {
    "colab": {
     "base_uri": "https://localhost:8080/"
    },
    "executionInfo": {
     "elapsed": 61,
     "status": "ok",
     "timestamp": 1623413319014,
     "user": {
      "displayName": "Aravindh Ravi",
      "photoUrl": "https://lh3.googleusercontent.com/a-/AOh14Gg6EpUJbxfaJau7GuJhLzctW6s9to-RMtRufFl2yw=s64",
      "userId": "01057670441275100003"
     },
     "user_tz": -330
    },
    "id": "a5Ko0sg-b1LU",
    "outputId": "860f8fc7-789d-4ed5-99f4-c58645cd7b59"
   },
   "outputs": [
    {
     "data": {
      "text/plain": [
       "array(['-127', '-499', '-388', '-108', '-50', '-360', '-286', '-786',\n",
       "       '-1698', '-1890', '-715', '-591', '-325', '-554.33', '-236',\n",
       "       '-11690', '-75', '-439', '-83', '-772', '-85', '-449', '-1',\n",
       "       '-1590', '-249', '-950', '-231', '-246', '-90', '-1187', '-2100',\n",
       "       '-814', '-600', '-445', '-125', '-305', '-3100', '-456', '-654.83',\n",
       "       '-1489', '-5000', '-208', '-258', '-2369', '-836', '-472', '13798',\n",
       "       '-13798', '-2256', '-179', '-11504.05', '-131', '-171', '-79.22',\n",
       "       '-1393.01', '-92.4', '-420', '-260', '-800', '-215', '187074',\n",
       "       '-1776.12', '-140', '-310', '-290', '-324', '-348', '-580', '-974',\n",
       "       '-1450', '-1307', '-114', '-144', '-903', '-116', '-294', '-3025',\n",
       "       '-2200', '-4600', '-16791', '-1750', '-359', '-3500', '-221.17',\n",
       "       '-155', '-998', '-2379', '-347', '-320', '-686', '-2000', '-500',\n",
       "       '-540', '-152', '-604.8', '-1080', '-254', '-219', '-741', '-740',\n",
       "       '-2198', '-1040', '-282', '1', '-59', '2532.86', '-1510', '-1797',\n",
       "       '-264', '-6808', '-1260', '-137', '24.17', '-2441.37', '-336',\n",
       "       '-105', '-284', '-1715', '-706', '-905', '-1480', '-61350', '-599',\n",
       "       '-1536.36', '64806', '-112', '-121', '-162', '-1249', '-4861',\n",
       "       '-41000', '-44490', '-128450', '-450', '-557', '-799', '-1565',\n",
       "       '-1038', '-45', '40900', '100', '-190', '-2490', '-650', '-2421',\n",
       "       '-281', '-400', '-699', '-79', '-467', '-1820', '-330', '-48635',\n",
       "       '-265', '-57215', '-3521', '-2530', '-704.46', '-418', '-200',\n",
       "       '-147', '-668', '-913.5', '-120', '-322', '-584', '-1945', '-100',\n",
       "       '-590', '-2128.3', '-1074', '-1298', '-35315.9', '-1678.42',\n",
       "       '-1.04', '-6.04', '-127.14', '-9699.82', '-3351.57', '-102.82',\n",
       "       '-5536.73', '-4457.62', '-0.37', '-34.92', '-19.93', '-31.65',\n",
       "       '-12.07', '-1333.81', '-22.82', '-1975', '-12650', '-1105.83',\n",
       "       '-389', '-93', '-380', '-744', '-1145', '-860', '-442.33', '20',\n",
       "       '-2020', '-3093', '-1516', '-436', '-250.88', '-4967', '-1250',\n",
       "       '-120000', '-180', '-386.01', '-1611', '-5632', '-94.11', '-67.84',\n",
       "       '-2249', '-990', '-20', '-1907.3', '-712', '-697', '-14329', '-63',\n",
       "       '-1414', '-480', '-12459.66', '-1270.62', '-137.87', '-881.59',\n",
       "       '-124.87', '-150', '-115.63', '-33.3', '-347.16', '-1130.32',\n",
       "       '-827', '-663.5', '211428', '-606', '-2850.62', '-1320', '-2450',\n",
       "       '-550', '-531', '-2500', '-183.75', '-945', '-1588.66', '-1257',\n",
       "       '-1627', '-158', '7.52', '-63720', '-999', '-397.62', '-1068',\n",
       "       '-1500', '-170', '-1534', '-380.7', '-1110.32', '-373.81',\n",
       "       '-20000', '-640', '-653.5', '-7124', '-1020', '-388.57',\n",
       "       '-21359.47', '-261.95', '-399.28', '-4.11', '-16.05', '-40797.97',\n",
       "       '-11232.35', '-1.44', '-756.44', '-3190.01', '-3431.82',\n",
       "       '-1007.01', '-12540.6', '-648.6', '-25819.01', '-0.94', '-4.32',\n",
       "       '-8.29', '-11.48', '-146.87', '-40.44', '-4845.12', '-1699',\n",
       "       '-12.36', '200000', '-3.63', '-2.72', '-1459', '-45.15', '-4455',\n",
       "       '-623', '-2598', '-6667', '-92.95', '-61.76', '-2.33', '-2.85',\n",
       "       '-543', '-5964.04', '-1852.76', '-117', '-2377', '-3523.28',\n",
       "       '-8129.07', '700000', '-1210', '-2127', '-563', '-826', '-240',\n",
       "       '-1004', '-3210.5', '4190', '3523.28', '-1598.26', '-708', '-610',\n",
       "       '850', '-252', '-1998.76', '19.79', '14.84', '-101', '-70',\n",
       "       '-1100', '-270', '-99', '-280', '-750', '-1499', '-323', '-48',\n",
       "       '-185', '-123', '-11000', '-605', '-283', '-2814', '-19.15',\n",
       "       '-2430.73', '2000', '-107.68', '-199', '-953', '-1326.97',\n",
       "       '-425.26', '-649', '-779', '-2499', '-341', '-549.14', '-168',\n",
       "       '-250', '-1199', '-1299', '-1088', '-138', '-1452', '-900', '-893',\n",
       "       '24.77', '-19999', '-6536', '-104900', '-455.97', '-2501.65',\n",
       "       '-226', '-276', '-655', '-454.98', '-335', '-126', '-350', '-896',\n",
       "       '-1598.01', '-1173', '-850', '-2334', '-411', '-341.92', '-259.04',\n",
       "       '-7602', '-27376', '-93.99', '-170.79', ' England', '-358.12',\n",
       "       '-124', '-186', '-1138', '-14050', '188', '-1546', '-8000',\n",
       "       '-5098', '-1345', '-878.85', '-1003', '-394', '-3081', '-3415',\n",
       "       '-178.5', '-565', '-2265', '613159', '-135', '-156', '26.94',\n",
       "       '-2721.04', '-613', '-257', '-262', '-884.64', '-4442', '-12999',\n",
       "       '-1297', '-15045', '-636', '-2650', '-430', '-813', '-130.75',\n",
       "       '-117.23', '-2907', '-397', '-255', '-1376', '-1235.7', '-1799',\n",
       "       '-259', '-3780', '-130.2', '-4000', '-42', '-212.76', '-60', '-84',\n",
       "       '-2597', '-1049.43', '-477.76', '-120.76', '-1433.93', '-315',\n",
       "       '-1717', '17', '-37', '-656', '-3200', '-3.45', '-2744', '-1092',\n",
       "       '-1760', '-1619', '-735', '145831', '-1883', '-2800', '-683',\n",
       "       '-910', '-225', '-370', '-1128.69', '-1597', '-225.54', '11.18',\n",
       "       '-5985', '-2205', '-482', '-691.05', '-1011.44', '-3170', '-396',\n",
       "       '-552.3', '-756', '-404', '26.05', '-2702', '-47000', '-659',\n",
       "       '-5400', '-745', '-390', '-989', '-1438', '-625', '-1104',\n",
       "       '-304.5', '-4569.5', '-459.9', '-2243', '-678', '-570', '9.63',\n",
       "       '-1297.27', '-2050', '-87', '12.84', '-661', '-0.03', '-1524',\n",
       "       '-275', '-567', '21.4', '-808', '-115', '-1420', '-620', '-546',\n",
       "       '-4112', '426741', '-35935', '-478', '-681', '-488', '-5150',\n",
       "       '-15000', '-331', '-169', '-54980.45', '-582', '-1245', '-293',\n",
       "       '-292', '-272', '-1831', '-213.01', '-548', '-12050', '-573',\n",
       "       '-377', '-1025', '-357', '-1560', '-345', '-1660.99', '-23',\n",
       "       '258197', '-261', '-2630.2', '26.04', '19.5', '-586', '-592',\n",
       "       '-221', '-519', '-551', '-2818', '-1540', '-515', '-3376', '26.86',\n",
       "       '-306', '-6560', '-2712.64', '-25', '-220', '-2868', '-2160',\n",
       "       '-242', '-317.13', '-299', '-3397', '-334', '-1445.01', '-399',\n",
       "       '-785', '-2056', '-462', '-960', '20.84', '-302.99', '-430.52',\n",
       "       '-1344.03', '-312.9', '-2366.7', '-630', '-530.88', '-300',\n",
       "       '-1177.06', '-1741', '-453', '-2065', '-781', '-154', '-198',\n",
       "       '-392', '-654', '-491.5', '-2496.22', '-10', '24.72', '-2230',\n",
       "       '-145', '-427', '18.5', '-3863', '-669', ' India', '-780', '-1616',\n",
       "       '-367', '-1200', '27.05', '-2731.86', '-676', '-775', '-491',\n",
       "       '-1050', '-142', '-157.5', '-191.44', '-1010', '-616', '-721',\n",
       "       '216703', '-899', '-5691', '-1075.99', '-131.26', '-119.98', '-68',\n",
       "       '-136', '-1120', '-3241', '-434', '5691', '-6550', '-996',\n",
       "       '-1141.3', '-267.76', '-948', '-295', '-1064', '-1125', '-141',\n",
       "       '-5635', '-173', '-2502.14', '-4200', '-368', '-205.26', '-30.53',\n",
       "       '-169.63', '-890', '-687', '-2924', '-827.4', '-1621.45', '-291',\n",
       "       '899', '-1598', '-89', '-314', '-409', '-15.76', '1199', '-845',\n",
       "       '-1303', '-91', '-353.92', '-685', '-1141', '-1057', '-103.96',\n",
       "       '-333', '-7.77', '-454.9', '-10000', '142514', '-4392.19', '-743',\n",
       "       '-15.81', '-2357', '-498', '-30.12', '-453.18', '-1093', '-139',\n",
       "       '-234', '-2737', '-966', '-631.9', '-959', '-92', '-2569.54',\n",
       "       '25.44', '-159', '-30.18', '-414.76', '-95', '-577', '-1729',\n",
       "       '-2396', '-475.95', '-935', '-58', '-2492', '-568', '-301', '-76',\n",
       "       '25.23', '-970', '-934', '-435', '-1842.96', '-1211', '-395',\n",
       "       '-53', '-613.9', '-7680', '-466', '-2340', '-720', '-6295', '-183',\n",
       "       '-257.26', '-1085', '-688', '-3703', '-1000', '-638', '-474',\n",
       "       '-710.88', '-129', '-4491', '-287.92', '-210.01', '-473', '-1490',\n",
       "       '-130', '-385.1', '-1998.93', '-2006', '24.04', '-2428.32',\n",
       "       '-1478', '186248', '-28999', '-867.3', '-8598', '-2799',\n",
       "       '-1848.51', '-2023.6', '20.04', '-517', '-639', '-7900', '-315.95',\n",
       "       '-806', '-1067.84', '-9029.76', '-748', '-1625', '-98', '-409.99',\n",
       "       '-568.71', '-4475', '-3514', '-6794', '-194', '-859', '-877',\n",
       "       '-199.5', '-2212.5', '-1711.05', '16.94', '-1673', '-375',\n",
       "       '-50000', '-1902', '-486', '-160', '-269', '-196', '-1215', '-66',\n",
       "       '-192', '-609', '-1398', '-495', '-464', '-525', '-381', '-8260',\n",
       "       '-1395', '214173', '-1399', '-1726', '-362', '-2999', '-858.63',\n",
       "       '-1185', '-1060', '-117.71', '-494', '-10556', '-0.01', '-1220',\n",
       "       '-22400', '-1765.19', '-10742.89', '-443.92', '-48.68', '-6.35',\n",
       "       '-302.88', '-2158.86', '-803', '-298', '-179.99', '-14083.98',\n",
       "       '-411.21', '-5149.52', '-4164.98', '-1092.79', '-4896.94',\n",
       "       '-38.67', '-1641', '-1.48', '-50.7', '-283.51', '-520', '-164',\n",
       "       '-669.54', '-18.54', '-1.02', '-14.99', '-17.63', '-3.93', '-3.71',\n",
       "       '-10.02', '-3.16', '-11703.72', '-3400', '-42.13', '-18953.21',\n",
       "       '-1039.5', '-2.41', '-68.23', '-51.07', '-1257.45', '-1141.43',\n",
       "       '-3019', '-274', '1180', '-4233', '-1131.2', '-569', '-189',\n",
       "       '-508', '-483', '-336.92', '125581', '-19184.26', '-4331', '-1295',\n",
       "       '-709', '-384', '-2460.96', '24.37', '-110', '-1171', '-363',\n",
       "       '-502', '-3900', '25.85', '-1044', '-318', '-535.52', '-304',\n",
       "       '-2169.55', '-755', '-2150', '-598', '-2422', '-446', '-727',\n",
       "       '-1956', '-2157', '-1341', '-732', '-352', '-2124', '-898',\n",
       "       '-1382', '-4021', '-587.32', '-337', '-209', '-3283', '-1814',\n",
       "       '-1661.45', '-641', '-30975', '-2060', '-480.18', '-577.52',\n",
       "       '-512', '-415', '-1103', '-3370', '340000', '-328', '-823.04',\n",
       "       '-628', '-349', '-1766.96', '-733', '-667', '-1321', '-534',\n",
       "       '-593', '-2069.13', '-704', '-11673', '20.49', '-184', '-425',\n",
       "       '-8743.8', '-631', '-516', '-509', '-803.26', '-2594', '-2097',\n",
       "       '-1873', '-738', '-831', '-262.5', '-388.5', '-167', '-195',\n",
       "       '-760.75', '-174', '-829', '-621', '-1675', '-840', '-640.5',\n",
       "       '-409.5', '-3534', '-228', '-528', '-45658.04', '79853',\n",
       "       '-6360.48', '-466.28', '-261.24', '-115.5', '-752.03', '-446.26',\n",
       "       '-1139', '-521', '-854.01', '-5849', '-187', '-401.1', '-296',\n",
       "       '24.89', '-204', '-3879.9', '-8711', '-2478', '-1855', '-13605.9',\n",
       "       '-109.84', '-6600', '-438', '-479', '-1110.42', '-572', '-134',\n",
       "       '-51200', '-1374', '-161.5', '-925', '-700', '-325.5', '-2190',\n",
       "       '-1849.5', '568.9', '-725', '-1798', '-1852'], dtype=object)"
      ]
     },
     "execution_count": 24,
     "metadata": {
      "tags": []
     },
     "output_type": "execute_result"
    }
   ],
   "source": [
    "dataframe_2['Amount'].unique()\n",
    "# The values are of type string \n",
    "# There are certain empty strings present on the list \n",
    "# Those empty strings need to be deleted "
   ]
  },
  {
   "cell_type": "code",
   "execution_count": 25,
   "metadata": {
    "colab": {
     "base_uri": "https://localhost:8080/"
    },
    "executionInfo": {
     "elapsed": 59,
     "status": "ok",
     "timestamp": 1623413319014,
     "user": {
      "displayName": "Aravindh Ravi",
      "photoUrl": "https://lh3.googleusercontent.com/a-/AOh14Gg6EpUJbxfaJau7GuJhLzctW6s9to-RMtRufFl2yw=s64",
      "userId": "01057670441275100003"
     },
     "user_tz": -330
    },
    "id": "1h_NiadSb5aZ",
    "outputId": "859d6cfb-636f-4222-9c95-93266ab55a32"
   },
   "outputs": [
    {
     "name": "stderr",
     "output_type": "stream",
     "text": [
      "/usr/local/lib/python3.7/dist-packages/ipykernel_launcher.py:2: SettingWithCopyWarning: \n",
      "A value is trying to be set on a copy of a slice from a DataFrame.\n",
      "Try using .loc[row_indexer,col_indexer] = value instead\n",
      "\n",
      "See the caveats in the documentation: https://pandas.pydata.org/pandas-docs/stable/user_guide/indexing.html#returning-a-view-versus-a-copy\n",
      "  \n",
      "/usr/local/lib/python3.7/dist-packages/ipykernel_launcher.py:3: SettingWithCopyWarning: \n",
      "A value is trying to be set on a copy of a slice from a DataFrame.\n",
      "Try using .loc[row_indexer,col_indexer] = value instead\n",
      "\n",
      "See the caveats in the documentation: https://pandas.pydata.org/pandas-docs/stable/user_guide/indexing.html#returning-a-view-versus-a-copy\n",
      "  This is separate from the ipykernel package so we can avoid doing imports until\n"
     ]
    }
   ],
   "source": [
    "dataframe_3 = dataframe_2[pd.to_numeric(dataframe_2['Amount'], errors = 'coerce').notnull()]\n",
    "dataframe_3['Amount'] = dataframe_3['Amount'].astype('float')\n",
    "dataframe_3['Amount'] = dataframe_3['Amount'].apply(lambda x: abs(x))\n",
    "# dataframe_3.dtypes"
   ]
  },
  {
   "cell_type": "markdown",
   "metadata": {
    "id": "jhQtrkRrfiMU"
   },
   "source": [
    "### Analysing Transaction User Name"
   ]
  },
  {
   "cell_type": "code",
   "execution_count": 26,
   "metadata": {
    "colab": {
     "base_uri": "https://localhost:8080/",
     "height": 0
    },
    "executionInfo": {
     "elapsed": 716,
     "status": "ok",
     "timestamp": 1623413319672,
     "user": {
      "displayName": "Aravindh Ravi",
      "photoUrl": "https://lh3.googleusercontent.com/a-/AOh14Gg6EpUJbxfaJau7GuJhLzctW6s9to-RMtRufFl2yw=s64",
      "userId": "01057670441275100003"
     },
     "user_tz": -330
    },
    "id": "wQ9OgW9_cDfi",
    "outputId": "39f0c937-d72f-4ba5-8105-8900c9cc04d4"
   },
   "outputs": [
    {
     "data": {
      "text/plain": [
       "(array([645.,   0.,   0.,   0.,   0., 755.,   0.,   0.,   0.,  66.]),\n",
       " array([0. , 0.2, 0.4, 0.6, 0.8, 1. , 1.2, 1.4, 1.6, 1.8, 2. ]),\n",
       " <a list of 10 Patch objects>)"
      ]
     },
     "execution_count": 26,
     "metadata": {
      "tags": []
     },
     "output_type": "execute_result"
    },
    {
     "data": {
      "image/png": "[encoded data removed]",
      "text/plain": [
       "<Figure size 432x288 with 1 Axes>"
      ]
     },
     "metadata": {
      "needs_background": "light",
      "tags": []
     },
     "output_type": "display_data"
    }
   ],
   "source": [
    "plt.hist(dataframe_3['TransactionUserName'])"
   ]
  },
  {
   "cell_type": "code",
   "execution_count": 27,
   "metadata": {
    "colab": {
     "base_uri": "https://localhost:8080/"
    },
    "executionInfo": {
     "elapsed": 44,
     "status": "ok",
     "timestamp": 1623413319673,
     "user": {
      "displayName": "Aravindh Ravi",
      "photoUrl": "https://lh3.googleusercontent.com/a-/AOh14Gg6EpUJbxfaJau7GuJhLzctW6s9to-RMtRufFl2yw=s64",
      "userId": "01057670441275100003"
     },
     "user_tz": -330
    },
    "id": "KKQ3ZilwePGP",
    "outputId": "c70f3fae-e540-4cbc-980f-bd1389a1908f"
   },
   "outputs": [
    {
     "data": {
      "text/plain": [
       "3"
      ]
     },
     "execution_count": 27,
     "metadata": {
      "tags": []
     },
     "output_type": "execute_result"
    }
   ],
   "source": [
    "dataframe_3['TransactionUserName'].nunique()"
   ]
  },
  {
   "cell_type": "code",
   "execution_count": 28,
   "metadata": {
    "colab": {
     "base_uri": "https://localhost:8080/"
    },
    "executionInfo": {
     "elapsed": 42,
     "status": "ok",
     "timestamp": 1623413319673,
     "user": {
      "displayName": "Aravindh Ravi",
      "photoUrl": "https://lh3.googleusercontent.com/a-/AOh14Gg6EpUJbxfaJau7GuJhLzctW6s9to-RMtRufFl2yw=s64",
      "userId": "01057670441275100003"
     },
     "user_tz": -330
    },
    "id": "lfGu2Pa6fqm6",
    "outputId": "f860df81-33ef-40a0-c3bd-064562d435d3"
   },
   "outputs": [
    {
     "data": {
      "text/plain": [
       "         JASJIT KAUR    755\n",
       "       VIBHORE GOYAL    645\n",
       "          INDU GOYAL     66\n",
       "Name: TransactionUserName, dtype: int64"
      ]
     },
     "execution_count": 28,
     "metadata": {
      "tags": []
     },
     "output_type": "execute_result"
    }
   ],
   "source": [
    "dataframe_3['TransactionUserName'].value_counts()"
   ]
  },
  {
   "cell_type": "code",
   "execution_count": 29,
   "metadata": {
    "colab": {
     "base_uri": "https://localhost:8080/",
     "height": 0
    },
    "executionInfo": {
     "elapsed": 42,
     "status": "ok",
     "timestamp": 1623413319674,
     "user": {
      "displayName": "Aravindh Ravi",
      "photoUrl": "https://lh3.googleusercontent.com/a-/AOh14Gg6EpUJbxfaJau7GuJhLzctW6s9to-RMtRufFl2yw=s64",
      "userId": "01057670441275100003"
     },
     "user_tz": -330
    },
    "id": "pAnIzvUvgDBB",
    "outputId": "b79c7d44-361a-45ab-a483-450701bf47f3"
   },
   "outputs": [
    {
     "name": "stderr",
     "output_type": "stream",
     "text": [
      "/usr/local/lib/python3.7/dist-packages/ipykernel_launcher.py:5: SettingWithCopyWarning: \n",
      "A value is trying to be set on a copy of a slice from a DataFrame.\n",
      "Try using .loc[row_indexer,col_indexer] = value instead\n",
      "\n",
      "See the caveats in the documentation: https://pandas.pydata.org/pandas-docs/stable/user_guide/indexing.html#returning-a-view-versus-a-copy\n",
      "  \"\"\"\n"
     ]
    },
    {
     "data": {
      "text/html": [
       "<div>\n",
       "<style scoped>\n",
       "    .dataframe tbody tr th:only-of-type {\n",
       "        vertical-align: middle;\n",
       "    }\n",
       "\n",
       "    .dataframe tbody tr th {\n",
       "        vertical-align: top;\n",
       "    }\n",
       "\n",
       "    .dataframe thead th {\n",
       "        text-align: right;\n",
       "    }\n",
       "</style>\n",
       "<table border=\"1\" class=\"dataframe\">\n",
       "  <thead>\n",
       "    <tr style=\"text-align: right;\">\n",
       "      <th></th>\n",
       "      <th>Description</th>\n",
       "      <th>InternationTransactionAmount</th>\n",
       "      <th>Category</th>\n",
       "      <th>Amount</th>\n",
       "      <th>TransactionType</th>\n",
       "      <th>IsoCurrency</th>\n",
       "      <th>Locality</th>\n",
       "      <th>City</th>\n",
       "      <th>State</th>\n",
       "      <th>Country</th>\n",
       "      <th>Unnamed: 12</th>\n",
       "      <th>date_parsed</th>\n",
       "      <th>TransactionUserName_new</th>\n",
       "    </tr>\n",
       "  </thead>\n",
       "  <tbody>\n",
       "    <tr>\n",
       "      <th>0</th>\n",
       "      <td>THE ROOM               GURGAON                ...</td>\n",
       "      <td>0.0</td>\n",
       "      <td>Video game</td>\n",
       "      <td>127.0</td>\n",
       "      <td>Domestic</td>\n",
       "      <td>INR</td>\n",
       "      <td>Central Park II</td>\n",
       "      <td>Gurugram</td>\n",
       "      <td>Haryana</td>\n",
       "      <td>India</td>\n",
       "      <td>NaN</td>\n",
       "      <td>2019-12-12</td>\n",
       "      <td>VIBHORE GOYAL</td>\n",
       "    </tr>\n",
       "    <tr>\n",
       "      <th>1</th>\n",
       "      <td>CUT AND STYLEGURGAON                          ...</td>\n",
       "      <td>0.0</td>\n",
       "      <td>Occupation</td>\n",
       "      <td>499.0</td>\n",
       "      <td>Domestic</td>\n",
       "      <td>INR</td>\n",
       "      <td>Sector 4</td>\n",
       "      <td>Gurugram</td>\n",
       "      <td>Haryana</td>\n",
       "      <td>India</td>\n",
       "      <td>NaN</td>\n",
       "      <td>2019-12-12</td>\n",
       "      <td>JASJIT KAUR</td>\n",
       "    </tr>\n",
       "    <tr>\n",
       "      <th>2</th>\n",
       "      <td>MUMUSOGURGAON                                 ...</td>\n",
       "      <td>0.0</td>\n",
       "      <td></td>\n",
       "      <td>388.0</td>\n",
       "      <td>Domestic</td>\n",
       "      <td>INR</td>\n",
       "      <td>Sector 49</td>\n",
       "      <td>Gurugram</td>\n",
       "      <td>Haryana</td>\n",
       "      <td>India</td>\n",
       "      <td>NaN</td>\n",
       "      <td>2019-12-12</td>\n",
       "      <td>JASJIT KAUR</td>\n",
       "    </tr>\n",
       "    <tr>\n",
       "      <th>3</th>\n",
       "      <td>THE ROOM               GURGAON                ...</td>\n",
       "      <td>0.0</td>\n",
       "      <td>Video game</td>\n",
       "      <td>108.0</td>\n",
       "      <td>Domestic</td>\n",
       "      <td>INR</td>\n",
       "      <td>Central Park II</td>\n",
       "      <td>Gurugram</td>\n",
       "      <td>Haryana</td>\n",
       "      <td>India</td>\n",
       "      <td>NaN</td>\n",
       "      <td>2019-12-12</td>\n",
       "      <td>VIBHORE GOYAL</td>\n",
       "    </tr>\n",
       "    <tr>\n",
       "      <th>4</th>\n",
       "      <td>THE ROOM               GURGAON                ...</td>\n",
       "      <td>0.0</td>\n",
       "      <td>Video game</td>\n",
       "      <td>50.0</td>\n",
       "      <td>Domestic</td>\n",
       "      <td>INR</td>\n",
       "      <td>Central Park II</td>\n",
       "      <td>Gurugram</td>\n",
       "      <td>Haryana</td>\n",
       "      <td>India</td>\n",
       "      <td>NaN</td>\n",
       "      <td>2019-12-12</td>\n",
       "      <td>VIBHORE GOYAL</td>\n",
       "    </tr>\n",
       "    <tr>\n",
       "      <th>...</th>\n",
       "      <td>...</td>\n",
       "      <td>...</td>\n",
       "      <td>...</td>\n",
       "      <td>...</td>\n",
       "      <td>...</td>\n",
       "      <td>...</td>\n",
       "      <td>...</td>\n",
       "      <td>...</td>\n",
       "      <td>...</td>\n",
       "      <td>...</td>\n",
       "      <td>...</td>\n",
       "      <td>...</td>\n",
       "      <td>...</td>\n",
       "    </tr>\n",
       "    <tr>\n",
       "      <th>1465</th>\n",
       "      <td>KFC SEC 47 SOHNA ROAD GGURGAON                ...</td>\n",
       "      <td>0.0</td>\n",
       "      <td>Fast food restaurant company</td>\n",
       "      <td>120.0</td>\n",
       "      <td>Domestic</td>\n",
       "      <td>INR</td>\n",
       "      <td>D1 Block</td>\n",
       "      <td>Gurugram</td>\n",
       "      <td>Haryana</td>\n",
       "      <td>India</td>\n",
       "      <td>NaN</td>\n",
       "      <td>2019-07-06</td>\n",
       "      <td>VIBHORE GOYAL</td>\n",
       "    </tr>\n",
       "    <tr>\n",
       "      <th>1466</th>\n",
       "      <td>SPICEJET LIMITEDGURGAON                       ...</td>\n",
       "      <td>0.0</td>\n",
       "      <td>Airline</td>\n",
       "      <td>1798.0</td>\n",
       "      <td>Domestic</td>\n",
       "      <td>INR</td>\n",
       "      <td>Phase III</td>\n",
       "      <td>Gurugram</td>\n",
       "      <td>Haryana</td>\n",
       "      <td>India</td>\n",
       "      <td>NaN</td>\n",
       "      <td>2019-07-07</td>\n",
       "      <td>VIBHORE GOYAL</td>\n",
       "    </tr>\n",
       "    <tr>\n",
       "      <th>1467</th>\n",
       "      <td>CAFE COFFEE DAYILD TRADE                      ...</td>\n",
       "      <td>0.0</td>\n",
       "      <td>Cafe company</td>\n",
       "      <td>298.0</td>\n",
       "      <td>Domestic</td>\n",
       "      <td>INR</td>\n",
       "      <td>Sohna Road</td>\n",
       "      <td>Gurugram</td>\n",
       "      <td>Haryana</td>\n",
       "      <td>India</td>\n",
       "      <td>NaN</td>\n",
       "      <td>2019-07-07</td>\n",
       "      <td>VIBHORE GOYAL</td>\n",
       "    </tr>\n",
       "    <tr>\n",
       "      <th>1468</th>\n",
       "      <td>SHOPPERS STOP LTD      GURGAON                ...</td>\n",
       "      <td>0.0</td>\n",
       "      <td>Department store company</td>\n",
       "      <td>1852.0</td>\n",
       "      <td>Domestic</td>\n",
       "      <td>INR</td>\n",
       "      <td>Heritage City</td>\n",
       "      <td>Gurugram</td>\n",
       "      <td>Haryana</td>\n",
       "      <td>India</td>\n",
       "      <td>NaN</td>\n",
       "      <td>2019-07-07</td>\n",
       "      <td>JASJIT KAUR</td>\n",
       "    </tr>\n",
       "    <tr>\n",
       "      <th>1469</th>\n",
       "      <td>TATA INDICOM-DOCOMOMUMBAI                     ...</td>\n",
       "      <td>0.0</td>\n",
       "      <td>Former President of South Africa</td>\n",
       "      <td>1297.0</td>\n",
       "      <td>Domestic</td>\n",
       "      <td>INR</td>\n",
       "      <td>Mahim</td>\n",
       "      <td>Mumbai</td>\n",
       "      <td>Maharashtra</td>\n",
       "      <td>India</td>\n",
       "      <td>NaN</td>\n",
       "      <td>2019-07-11</td>\n",
       "      <td>VIBHORE GOYAL</td>\n",
       "    </tr>\n",
       "  </tbody>\n",
       "</table>\n",
       "<p>1466 rows × 13 columns</p>\n",
       "</div>"
      ],
      "text/plain": [
       "                                            Description  ...  TransactionUserName_new\n",
       "0     THE ROOM               GURGAON                ...  ...            VIBHORE GOYAL\n",
       "1     CUT AND STYLEGURGAON                          ...  ...              JASJIT KAUR\n",
       "2     MUMUSOGURGAON                                 ...  ...              JASJIT KAUR\n",
       "3     THE ROOM               GURGAON                ...  ...            VIBHORE GOYAL\n",
       "4     THE ROOM               GURGAON                ...  ...            VIBHORE GOYAL\n",
       "...                                                 ...  ...                      ...\n",
       "1465  KFC SEC 47 SOHNA ROAD GGURGAON                ...  ...            VIBHORE GOYAL\n",
       "1466  SPICEJET LIMITEDGURGAON                       ...  ...            VIBHORE GOYAL\n",
       "1467  CAFE COFFEE DAYILD TRADE                      ...  ...            VIBHORE GOYAL\n",
       "1468  SHOPPERS STOP LTD      GURGAON                ...  ...              JASJIT KAUR\n",
       "1469  TATA INDICOM-DOCOMOMUMBAI                     ...  ...            VIBHORE GOYAL\n",
       "\n",
       "[1466 rows x 13 columns]"
      ]
     },
     "execution_count": 29,
     "metadata": {
      "tags": []
     },
     "output_type": "execute_result"
    }
   ],
   "source": [
    "TransactionUserName_new = []\n",
    "for x in dataframe_3['TransactionUserName']: \n",
    "  TransactionUserName_new.append(x.strip())\n",
    "\n",
    "dataframe_3['TransactionUserName_new'] = TransactionUserName_new\n",
    "dataframe_4 = dataframe_3.drop('TransactionUserName', axis = 1)\n",
    "dataframe_4"
   ]
  },
  {
   "cell_type": "code",
   "execution_count": 29,
   "metadata": {
    "executionInfo": {
     "elapsed": 39,
     "status": "ok",
     "timestamp": 1623413319674,
     "user": {
      "displayName": "Aravindh Ravi",
      "photoUrl": "https://lh3.googleusercontent.com/a-/AOh14Gg6EpUJbxfaJau7GuJhLzctW6s9to-RMtRufFl2yw=s64",
      "userId": "01057670441275100003"
     },
     "user_tz": -330
    },
    "id": "JjnMBuMogdPh"
   },
   "outputs": [],
   "source": []
  },
  {
   "cell_type": "markdown",
   "metadata": {
    "id": "US8Tq19Yi75P"
   },
   "source": [
    "###  Analysing Transaction Type"
   ]
  },
  {
   "cell_type": "code",
   "execution_count": 30,
   "metadata": {
    "colab": {
     "base_uri": "https://localhost:8080/",
     "height": 0
    },
    "executionInfo": {
     "elapsed": 38,
     "status": "ok",
     "timestamp": 1623413319675,
     "user": {
      "displayName": "Aravindh Ravi",
      "photoUrl": "https://lh3.googleusercontent.com/a-/AOh14Gg6EpUJbxfaJau7GuJhLzctW6s9to-RMtRufFl2yw=s64",
      "userId": "01057670441275100003"
     },
     "user_tz": -330
    },
    "id": "ayE1eeKGjJn2",
    "outputId": "9d9eac8d-dc26-40fd-cad8-aaed152f8ec2"
   },
   "outputs": [
    {
     "data": {
      "text/plain": [
       "(array([1433.,    0.,    0.,    0.,    0.,    0.,    0.,    0.,    0.,\n",
       "          33.]),\n",
       " array([0. , 0.1, 0.2, 0.3, 0.4, 0.5, 0.6, 0.7, 0.8, 0.9, 1. ]),\n",
       " <a list of 10 Patch objects>)"
      ]
     },
     "execution_count": 30,
     "metadata": {
      "tags": []
     },
     "output_type": "execute_result"
    },
    {
     "data": {
      "image/png": "[encoded data removed]",
      "text/plain": [
       "<Figure size 432x288 with 1 Axes>"
      ]
     },
     "metadata": {
      "needs_background": "light",
      "tags": []
     },
     "output_type": "display_data"
    }
   ],
   "source": [
    "plt.hist(dataframe_4['TransactionType'])"
   ]
  },
  {
   "cell_type": "code",
   "execution_count": 31,
   "metadata": {
    "colab": {
     "base_uri": "https://localhost:8080/"
    },
    "executionInfo": {
     "elapsed": 37,
     "status": "ok",
     "timestamp": 1623413319676,
     "user": {
      "displayName": "Aravindh Ravi",
      "photoUrl": "https://lh3.googleusercontent.com/a-/AOh14Gg6EpUJbxfaJau7GuJhLzctW6s9to-RMtRufFl2yw=s64",
      "userId": "01057670441275100003"
     },
     "user_tz": -330
    },
    "id": "j-F--_otjZdv",
    "outputId": "55c6c4ef-f1af-4d2e-fdde-11b7f56edf0d"
   },
   "outputs": [
    {
     "data": {
      "text/plain": [
       "2"
      ]
     },
     "execution_count": 31,
     "metadata": {
      "tags": []
     },
     "output_type": "execute_result"
    }
   ],
   "source": [
    "dataframe_4['TransactionType'].nunique()"
   ]
  },
  {
   "cell_type": "code",
   "execution_count": 32,
   "metadata": {
    "colab": {
     "base_uri": "https://localhost:8080/"
    },
    "executionInfo": {
     "elapsed": 36,
     "status": "ok",
     "timestamp": 1623413319676,
     "user": {
      "displayName": "Aravindh Ravi",
      "photoUrl": "https://lh3.googleusercontent.com/a-/AOh14Gg6EpUJbxfaJau7GuJhLzctW6s9to-RMtRufFl2yw=s64",
      "userId": "01057670441275100003"
     },
     "user_tz": -330
    },
    "id": "JfplgEdwjlZv",
    "outputId": "e134eab5-5dcc-46ee-e135-4ba28e4dc2c5"
   },
   "outputs": [
    {
     "data": {
      "text/plain": [
       "       Domestic    1433\n",
       "  International      33\n",
       "Name: TransactionType, dtype: int64"
      ]
     },
     "execution_count": 32,
     "metadata": {
      "tags": []
     },
     "output_type": "execute_result"
    }
   ],
   "source": [
    "dataframe_4['TransactionType'].value_counts()"
   ]
  },
  {
   "cell_type": "markdown",
   "metadata": {
    "id": "r7_hr7FalK_d"
   },
   "source": [
    "### Analysing  IsoCurrency"
   ]
  },
  {
   "cell_type": "code",
   "execution_count": 33,
   "metadata": {
    "colab": {
     "base_uri": "https://localhost:8080/",
     "height": 0
    },
    "executionInfo": {
     "elapsed": 36,
     "status": "ok",
     "timestamp": 1623413319677,
     "user": {
      "displayName": "Aravindh Ravi",
      "photoUrl": "https://lh3.googleusercontent.com/a-/AOh14Gg6EpUJbxfaJau7GuJhLzctW6s9to-RMtRufFl2yw=s64",
      "userId": "01057670441275100003"
     },
     "user_tz": -330
    },
    "id": "S5V4eHLmlTyd",
    "outputId": "d1300cd2-290a-438a-9ee1-12c7a9121345"
   },
   "outputs": [
    {
     "data": {
      "text/plain": [
       "(array([1.433e+03, 0.000e+00, 0.000e+00, 2.000e+00, 0.000e+00, 0.000e+00,\n",
       "        3.000e+01, 0.000e+00, 0.000e+00, 1.000e+00]),\n",
       " array([0. , 0.3, 0.6, 0.9, 1.2, 1.5, 1.8, 2.1, 2.4, 2.7, 3. ]),\n",
       " <a list of 10 Patch objects>)"
      ]
     },
     "execution_count": 33,
     "metadata": {
      "tags": []
     },
     "output_type": "execute_result"
    },
    {
     "data": {
      "image/png": "[encoded data removed]",
      "text/plain": [
       "<Figure size 432x288 with 1 Axes>"
      ]
     },
     "metadata": {
      "needs_background": "light",
      "tags": []
     },
     "output_type": "display_data"
    }
   ],
   "source": [
    "plt.hist(dataframe_4['IsoCurrency'])"
   ]
  },
  {
   "cell_type": "code",
   "execution_count": 34,
   "metadata": {
    "colab": {
     "base_uri": "https://localhost:8080/"
    },
    "executionInfo": {
     "elapsed": 34,
     "status": "ok",
     "timestamp": 1623413319677,
     "user": {
      "displayName": "Aravindh Ravi",
      "photoUrl": "https://lh3.googleusercontent.com/a-/AOh14Gg6EpUJbxfaJau7GuJhLzctW6s9to-RMtRufFl2yw=s64",
      "userId": "01057670441275100003"
     },
     "user_tz": -330
    },
    "id": "Io5wpHh6lVeS",
    "outputId": "30b7d5c0-cabc-414f-f44f-a0337b5d4cb2"
   },
   "outputs": [
    {
     "data": {
      "text/plain": [
       "4"
      ]
     },
     "execution_count": 34,
     "metadata": {
      "tags": []
     },
     "output_type": "execute_result"
    }
   ],
   "source": [
    "dataframe_4['IsoCurrency'].nunique()"
   ]
  },
  {
   "cell_type": "code",
   "execution_count": 35,
   "metadata": {
    "colab": {
     "base_uri": "https://localhost:8080/"
    },
    "executionInfo": {
     "elapsed": 34,
     "status": "ok",
     "timestamp": 1623413319678,
     "user": {
      "displayName": "Aravindh Ravi",
      "photoUrl": "https://lh3.googleusercontent.com/a-/AOh14Gg6EpUJbxfaJau7GuJhLzctW6s9to-RMtRufFl2yw=s64",
      "userId": "01057670441275100003"
     },
     "user_tz": -330
    },
    "id": "RiBisbR7lhcJ",
    "outputId": "250ede09-41a4-4190-a4e6-eddbf304ce1e"
   },
   "outputs": [
    {
     "data": {
      "text/plain": [
       "INR    1433\n",
       "SGD      30\n",
       "USD       2\n",
       "MYR       1\n",
       "Name: IsoCurrency, dtype: int64"
      ]
     },
     "execution_count": 35,
     "metadata": {
      "tags": []
     },
     "output_type": "execute_result"
    }
   ],
   "source": [
    "dataframe_4['IsoCurrency'].value_counts()"
   ]
  },
  {
   "cell_type": "markdown",
   "metadata": {
    "id": "ygND2MTintsr"
   },
   "source": [
    "### Analysing ISO currency"
   ]
  },
  {
   "cell_type": "code",
   "execution_count": 36,
   "metadata": {
    "colab": {
     "base_uri": "https://localhost:8080/"
    },
    "executionInfo": {
     "elapsed": 33,
     "status": "ok",
     "timestamp": 1623413319678,
     "user": {
      "displayName": "Aravindh Ravi",
      "photoUrl": "https://lh3.googleusercontent.com/a-/AOh14Gg6EpUJbxfaJau7GuJhLzctW6s9to-RMtRufFl2yw=s64",
      "userId": "01057670441275100003"
     },
     "user_tz": -330
    },
    "id": "BuCdlcLknwt7",
    "outputId": "f6d54f69-0678-45fc-8975-0f7049747ebe"
   },
   "outputs": [
    {
     "data": {
      "text/plain": [
       "array(['INR', 'USD', 'SGD', 'MYR'], dtype=object)"
      ]
     },
     "execution_count": 36,
     "metadata": {
      "tags": []
     },
     "output_type": "execute_result"
    }
   ],
   "source": [
    "dataframe_4['IsoCurrency'].unique()"
   ]
  },
  {
   "cell_type": "code",
   "execution_count": 37,
   "metadata": {
    "colab": {
     "base_uri": "https://localhost:8080/"
    },
    "executionInfo": {
     "elapsed": 33,
     "status": "ok",
     "timestamp": 1623413319679,
     "user": {
      "displayName": "Aravindh Ravi",
      "photoUrl": "https://lh3.googleusercontent.com/a-/AOh14Gg6EpUJbxfaJau7GuJhLzctW6s9to-RMtRufFl2yw=s64",
      "userId": "01057670441275100003"
     },
     "user_tz": -330
    },
    "id": "cBmGZy-Dn47V",
    "outputId": "fe230a4f-1ac4-4325-88e2-5a23d3445a65"
   },
   "outputs": [
    {
     "data": {
      "text/plain": [
       "4"
      ]
     },
     "execution_count": 37,
     "metadata": {
      "tags": []
     },
     "output_type": "execute_result"
    }
   ],
   "source": [
    "dataframe_4['IsoCurrency'].nunique()"
   ]
  },
  {
   "cell_type": "code",
   "execution_count": 38,
   "metadata": {
    "colab": {
     "base_uri": "https://localhost:8080/"
    },
    "executionInfo": {
     "elapsed": 32,
     "status": "ok",
     "timestamp": 1623413319679,
     "user": {
      "displayName": "Aravindh Ravi",
      "photoUrl": "https://lh3.googleusercontent.com/a-/AOh14Gg6EpUJbxfaJau7GuJhLzctW6s9to-RMtRufFl2yw=s64",
      "userId": "01057670441275100003"
     },
     "user_tz": -330
    },
    "id": "QZWpSLNOn8rm",
    "outputId": "f6d111df-f25e-4881-8f48-2d2f4e00fe1c"
   },
   "outputs": [
    {
     "data": {
      "text/plain": [
       "INR    1433\n",
       "SGD      30\n",
       "USD       2\n",
       "MYR       1\n",
       "Name: IsoCurrency, dtype: int64"
      ]
     },
     "execution_count": 38,
     "metadata": {
      "tags": []
     },
     "output_type": "execute_result"
    }
   ],
   "source": [
    "dataframe_4['IsoCurrency'].value_counts()"
   ]
  },
  {
   "cell_type": "markdown",
   "metadata": {
    "id": "lIugUYYAmVmm"
   },
   "source": [
    "### Analysing  Locality"
   ]
  },
  {
   "cell_type": "code",
   "execution_count": 39,
   "metadata": {
    "colab": {
     "base_uri": "https://localhost:8080/"
    },
    "executionInfo": {
     "elapsed": 32,
     "status": "ok",
     "timestamp": 1623413319680,
     "user": {
      "displayName": "Aravindh Ravi",
      "photoUrl": "https://lh3.googleusercontent.com/a-/AOh14Gg6EpUJbxfaJau7GuJhLzctW6s9to-RMtRufFl2yw=s64",
      "userId": "01057670441275100003"
     },
     "user_tz": -330
    },
    "id": "smlKg5R5mZWn",
    "outputId": "a2cb1363-c43a-438b-8db0-23eceb8abbc0"
   },
   "outputs": [
    {
     "data": {
      "text/plain": [
       "0       Central Park II\n",
       "1              Sector 4\n",
       "2             Sector 49\n",
       "3       Central Park II\n",
       "4       Central Park II\n",
       "             ...       \n",
       "1465           D1 Block\n",
       "1466          Phase III\n",
       "1467         Sohna Road\n",
       "1468      Heritage City\n",
       "1469              Mahim\n",
       "Name: Locality, Length: 1466, dtype: object"
      ]
     },
     "execution_count": 39,
     "metadata": {
      "tags": []
     },
     "output_type": "execute_result"
    }
   ],
   "source": [
    "dataframe_4['Locality']"
   ]
  },
  {
   "cell_type": "code",
   "execution_count": 40,
   "metadata": {
    "colab": {
     "base_uri": "https://localhost:8080/"
    },
    "executionInfo": {
     "elapsed": 31,
     "status": "ok",
     "timestamp": 1623413319680,
     "user": {
      "displayName": "Aravindh Ravi",
      "photoUrl": "https://lh3.googleusercontent.com/a-/AOh14Gg6EpUJbxfaJau7GuJhLzctW6s9to-RMtRufFl2yw=s64",
      "userId": "01057670441275100003"
     },
     "user_tz": -330
    },
    "id": "09UkS1Dfmdvg",
    "outputId": "9bd50b09-f830-4e96-ef37-f2d9e0a9599d"
   },
   "outputs": [
    {
     "data": {
      "text/plain": [
       "185"
      ]
     },
     "execution_count": 40,
     "metadata": {
      "tags": []
     },
     "output_type": "execute_result"
    }
   ],
   "source": [
    "dataframe_4['Locality'].nunique()"
   ]
  },
  {
   "cell_type": "code",
   "execution_count": 41,
   "metadata": {
    "colab": {
     "base_uri": "https://localhost:8080/"
    },
    "executionInfo": {
     "elapsed": 31,
     "status": "ok",
     "timestamp": 1623413319681,
     "user": {
      "displayName": "Aravindh Ravi",
      "photoUrl": "https://lh3.googleusercontent.com/a-/AOh14Gg6EpUJbxfaJau7GuJhLzctW6s9to-RMtRufFl2yw=s64",
      "userId": "01057670441275100003"
     },
     "user_tz": -330
    },
    "id": "_xotVauymidb",
    "outputId": "2687770e-6f40-4118-a91f-6c6cb431f0f9"
   },
   "outputs": [
    {
     "data": {
      "text/plain": [
       "array(['Central Park II', 'Sector 4', 'Sector 49', 'Sector 9', nan,\n",
       "       'Durgadas Colony', 'Jaipur', 'Subash Nagar', 'Bapu Nagar',\n",
       "       'Sector 50', '3rd Block', 'Sector 42', 'Galleria Market',\n",
       "       'Dundahera Village', 'South City II', 'DLF Colony', 'Pocket H',\n",
       "       'DLF Phase 2', 'Pocket C', 'Heritage City', 'BNR Colony',\n",
       "       'Nirvana Country', 'Jubilee Hills', 'F Block', 'Ambience Island',\n",
       "       'New Mhada Colony', 'Saraswati Vihar', 'Gurgaon', 'Mumbai',\n",
       "       'New Airport Colony', 'South Extension', 'Orchid Petals',\n",
       "       'DLF Phase 1', 'Sector 56', 'Block S', 'Block A', 'Malibu Town',\n",
       "       'Maruti Housing Colony', 'Jalvayu Towers', 'अम्बिएंस आइलैंड',\n",
       "       'Bhagirath Palace', 'Sector 29', 'Sikanderpur', 'Shastri Nagar',\n",
       "       'A Block', 'Suncity', 'Block 11', 'Wilayah Persekutuan',\n",
       "       'DLF Phase 5', 'Saket District Centre', 'Rajiv Nagar',\n",
       "       'Sector 37B', 'Mount Vernon', 'D1 Block', 'Sector 14',\n",
       "       'Sohna Road', 'Ashok Nagar', 'Outram', 'Bishan', 'Jurong East',\n",
       "       'Downtown Core', 'Nemi Nagar Extension', 'South City I',\n",
       "       'Acharya Puri Extension', 'Phase 9', 'Chandigarh', 'Flushing',\n",
       "       'Veera Desai Industrial Estate', 'Tugalpur Village',\n",
       "       'Sitapura Industrial Area', 'Pink City', 'Ahluwalia Mohalla',\n",
       "       'Haji Ali', 'Bamanpuri', 'Vishwakarma Industrial Area',\n",
       "       'Khan Market', 'Block H', 'South West Delhi', 'Bani Park',\n",
       "       'Madrampur', 'Tatvam Villas', 'Geejgarh Vihar Colony',\n",
       "       'Hawa Sadak', 'Block E', 'New Colony', 'Old Delhi',\n",
       "       'Vaikuntam Layout', 'Ballard Estate', 'Amrut Nagar', 'Navpada',\n",
       "       'Mariyyman Nagar', 'Manhattan', 'Singapore River', 'Tampines',\n",
       "       'Changi', 'Tanglin', 'Factory Area', 'G Block BKC', 'Janpath',\n",
       "       'Mahim', 'Dera Mandi', 'Vaishali Nagar', 'Daulatabad',\n",
       "       'Nariman Point', 'New Gurgaon', 'New Delhi', 'Civil Lines',\n",
       "       'DLF City', 'Apollo Bandar', 'Uppal Southend', 'Sector 3',\n",
       "       'Jai Jawan-2', 'Malviya Nagar', 'D-Block', 'Near Trimurti Circle',\n",
       "       'Phase III', 'Pani Pech', 'Kapas Hera Extension', 'Alwar',\n",
       "       'Gautam Nagar', 'Pocket E', 'Garden Estate', 'Far West Side',\n",
       "       'Industrial Area', 'Gom Defence Colony', 'Hall Gate', 'Sukhrali',\n",
       "       'Islampur Village', 'Nambardar Market', 'Sindhi Camp',\n",
       "       'Aldeia de Goa', 'South Goa', 'National Capital Region',\n",
       "       'Maple Leaf', 'DLF Cyber City', 'Yawantika Colony', 'Sector 24',\n",
       "       'Saraswati Nagar Extension', 'Sector 118', 'Nasrali',\n",
       "       'Gurdev Nagar', 'New Rajeev Gandhi Nagar', 'New Market Area',\n",
       "       'Kirti Nagar', 'Sanganer', 'Block C', 'Vigyan Vihar', 'Block B',\n",
       "       'Near Club Cubana', 'Sector 31', 'North Hollywood', 'U Block',\n",
       "       'Sector 52A', 'Urban Estate', 'Fatehgarh Sahib', 'Preet Nagar',\n",
       "       'Bridge Market', 'Sector 117', 'Sanjay colony', 'Phase V',\n",
       "       'C Scheme', 'Nirman Nagar', 'Dharam Colony', 'Block K',\n",
       "       'Pasir Ris', 'Woodlands', 'Bukit Merah', 'Rochor', 'Geylang',\n",
       "       'Sector 83', 'Ber Sarai', 'Vatika City', 'Bhim Nagar',\n",
       "       'Kanti Nagar', 'Sector 21', 'D Block', 'Old Rajender Nagar',\n",
       "       'Shree Krishna Nagar', 'Parel', 'Parsvnath Exotica', 'Prem Nagar',\n",
       "       'Surat Nagar', 'LIG Colony', 'Teachers Colony',\n",
       "       'Central Secretariat', 'South Block'], dtype=object)"
      ]
     },
     "execution_count": 41,
     "metadata": {
      "tags": []
     },
     "output_type": "execute_result"
    }
   ],
   "source": [
    "dataframe_4['Locality'].unique()"
   ]
  },
  {
   "cell_type": "code",
   "execution_count": 42,
   "metadata": {
    "colab": {
     "base_uri": "https://localhost:8080/"
    },
    "executionInfo": {
     "elapsed": 30,
     "status": "ok",
     "timestamp": 1623413319681,
     "user": {
      "displayName": "Aravindh Ravi",
      "photoUrl": "https://lh3.googleusercontent.com/a-/AOh14Gg6EpUJbxfaJau7GuJhLzctW6s9to-RMtRufFl2yw=s64",
      "userId": "01057670441275100003"
     },
     "user_tz": -330
    },
    "id": "45dwp9_tmleE",
    "outputId": "ff533587-025d-4e80-f0d2-c0822fa28616"
   },
   "outputs": [
    {
     "data": {
      "text/plain": [
       "Central Park II     227\n",
       "Sector 42            91\n",
       "Sohna Road           69\n",
       "Gurgaon              65\n",
       "Block S              42\n",
       "                   ... \n",
       "Near Club Cubana      1\n",
       "Uppal Southend        1\n",
       "Sector 3              1\n",
       "BNR Colony            1\n",
       "Gautam Nagar          1\n",
       "Name: Locality, Length: 185, dtype: int64"
      ]
     },
     "execution_count": 42,
     "metadata": {
      "tags": []
     },
     "output_type": "execute_result"
    }
   ],
   "source": [
    "dataframe_4['Locality'].value_counts()"
   ]
  },
  {
   "cell_type": "code",
   "execution_count": 43,
   "metadata": {
    "colab": {
     "base_uri": "https://localhost:8080/"
    },
    "executionInfo": {
     "elapsed": 30,
     "status": "ok",
     "timestamp": 1623413319682,
     "user": {
      "displayName": "Aravindh Ravi",
      "photoUrl": "https://lh3.googleusercontent.com/a-/AOh14Gg6EpUJbxfaJau7GuJhLzctW6s9to-RMtRufFl2yw=s64",
      "userId": "01057670441275100003"
     },
     "user_tz": -330
    },
    "id": "cldWVKuSmvco",
    "outputId": "5858f51c-6cd2-4377-e190-afc455c797a7"
   },
   "outputs": [
    {
     "data": {
      "text/plain": [
       "168"
      ]
     },
     "execution_count": 43,
     "metadata": {
      "tags": []
     },
     "output_type": "execute_result"
    }
   ],
   "source": [
    "dataframe_4['Locality'].isnull().sum()"
   ]
  },
  {
   "cell_type": "code",
   "execution_count": 43,
   "metadata": {
    "executionInfo": {
     "elapsed": 28,
     "status": "ok",
     "timestamp": 1623413319682,
     "user": {
      "displayName": "Aravindh Ravi",
      "photoUrl": "https://lh3.googleusercontent.com/a-/AOh14Gg6EpUJbxfaJau7GuJhLzctW6s9to-RMtRufFl2yw=s64",
      "userId": "01057670441275100003"
     },
     "user_tz": -330
    },
    "id": "geUq5DDvnK0U"
   },
   "outputs": [],
   "source": []
  },
  {
   "cell_type": "markdown",
   "metadata": {
    "id": "64zFdsNk6PIl"
   },
   "source": [
    "### Analysing City\n"
   ]
  },
  {
   "cell_type": "code",
   "execution_count": 44,
   "metadata": {
    "colab": {
     "base_uri": "https://localhost:8080/"
    },
    "executionInfo": {
     "elapsed": 29,
     "status": "ok",
     "timestamp": 1623413319683,
     "user": {
      "displayName": "Aravindh Ravi",
      "photoUrl": "https://lh3.googleusercontent.com/a-/AOh14Gg6EpUJbxfaJau7GuJhLzctW6s9to-RMtRufFl2yw=s64",
      "userId": "01057670441275100003"
     },
     "user_tz": -330
    },
    "id": "gLMF0eZg6Ur-",
    "outputId": "9bc38df5-c1f1-4f72-b54e-326f41b63db9"
   },
   "outputs": [
    {
     "data": {
      "text/plain": [
       "array(['Gurugram', 'Jaipur', nan, 'Bengaluru', 'Hyderabad', 'Haryana',\n",
       "       'Noida', 'Mumbai', 'New Delhi', 'गुरुग्राम', 'Sarhol',\n",
       "       'Kuala Lumpur', 'Alexandria', 'Singapore', 'Chandigarh',\n",
       "       'Sahibzada Ajit Singh Nagar', 'Greater Noida', 'Khanna',\n",
       "       'New York', 'Patiala', 'Paota', 'Alwar', 'San Antonio', 'Kukas',\n",
       "       'Amritsar', 'Bambolim', 'Dabolim', 'Seattle', 'Gurdaspur',\n",
       "       'Mandi Gobindgarh', 'Ludhiana', 'Kota', 'Kolkata', 'Ghata',\n",
       "       'Arpora', 'Los Angeles', 'Faridabad', 'Fatehgarh Sahib', 'Sepang'],\n",
       "      dtype=object)"
      ]
     },
     "execution_count": 44,
     "metadata": {
      "tags": []
     },
     "output_type": "execute_result"
    }
   ],
   "source": [
    "dataframe_4['City'].unique()"
   ]
  },
  {
   "cell_type": "code",
   "execution_count": 45,
   "metadata": {
    "executionInfo": {
     "elapsed": 27,
     "status": "ok",
     "timestamp": 1623413319683,
     "user": {
      "displayName": "Aravindh Ravi",
      "photoUrl": "https://lh3.googleusercontent.com/a-/AOh14Gg6EpUJbxfaJau7GuJhLzctW6s9to-RMtRufFl2yw=s64",
      "userId": "01057670441275100003"
     },
     "user_tz": -330
    },
    "id": "JYeuVhSoqrED"
   },
   "outputs": [],
   "source": [
    "dataframe_4['City'] = dataframe_4['City'].replace('गुरुग्राम','Gurugram')"
   ]
  },
  {
   "cell_type": "code",
   "execution_count": 46,
   "metadata": {
    "colab": {
     "base_uri": "https://localhost:8080/"
    },
    "executionInfo": {
     "elapsed": 478,
     "status": "ok",
     "timestamp": 1623413320135,
     "user": {
      "displayName": "Aravindh Ravi",
      "photoUrl": "https://lh3.googleusercontent.com/a-/AOh14Gg6EpUJbxfaJau7GuJhLzctW6s9to-RMtRufFl2yw=s64",
      "userId": "01057670441275100003"
     },
     "user_tz": -330
    },
    "id": "ULWMUzol6XEB",
    "outputId": "73623d41-71b6-4824-91b7-abe7f9ef6859"
   },
   "outputs": [
    {
     "data": {
      "text/plain": [
       "37"
      ]
     },
     "execution_count": 46,
     "metadata": {
      "tags": []
     },
     "output_type": "execute_result"
    }
   ],
   "source": [
    "dataframe_4['City'].nunique()\n",
    "# Should get reduced from 38 to 37 "
   ]
  },
  {
   "cell_type": "code",
   "execution_count": 47,
   "metadata": {
    "colab": {
     "base_uri": "https://localhost:8080/"
    },
    "executionInfo": {
     "elapsed": 35,
     "status": "ok",
     "timestamp": 1623413320135,
     "user": {
      "displayName": "Aravindh Ravi",
      "photoUrl": "https://lh3.googleusercontent.com/a-/AOh14Gg6EpUJbxfaJau7GuJhLzctW6s9to-RMtRufFl2yw=s64",
      "userId": "01057670441275100003"
     },
     "user_tz": -330
    },
    "id": "5vKNGUxqq-c6",
    "outputId": "77de941f-1a2d-4558-89f8-bb311240da3f"
   },
   "outputs": [
    {
     "data": {
      "text/plain": [
       "array(['Gurugram', 'Jaipur', nan, 'Bengaluru', 'Hyderabad', 'Haryana',\n",
       "       'Noida', 'Mumbai', 'New Delhi', 'Sarhol', 'Kuala Lumpur',\n",
       "       'Alexandria', 'Singapore', 'Chandigarh',\n",
       "       'Sahibzada Ajit Singh Nagar', 'Greater Noida', 'Khanna',\n",
       "       'New York', 'Patiala', 'Paota', 'Alwar', 'San Antonio', 'Kukas',\n",
       "       'Amritsar', 'Bambolim', 'Dabolim', 'Seattle', 'Gurdaspur',\n",
       "       'Mandi Gobindgarh', 'Ludhiana', 'Kota', 'Kolkata', 'Ghata',\n",
       "       'Arpora', 'Los Angeles', 'Faridabad', 'Fatehgarh Sahib', 'Sepang'],\n",
       "      dtype=object)"
      ]
     },
     "execution_count": 47,
     "metadata": {
      "tags": []
     },
     "output_type": "execute_result"
    }
   ],
   "source": [
    "dataframe_4['City'].unique()"
   ]
  },
  {
   "cell_type": "code",
   "execution_count": 48,
   "metadata": {
    "colab": {
     "base_uri": "https://localhost:8080/"
    },
    "executionInfo": {
     "elapsed": 35,
     "status": "ok",
     "timestamp": 1623413320136,
     "user": {
      "displayName": "Aravindh Ravi",
      "photoUrl": "https://lh3.googleusercontent.com/a-/AOh14Gg6EpUJbxfaJau7GuJhLzctW6s9to-RMtRufFl2yw=s64",
      "userId": "01057670441275100003"
     },
     "user_tz": -330
    },
    "id": "Rm9qM7QC6YhU",
    "outputId": "8e1406c9-c20f-4f9c-aa34-0cdfe184dde9"
   },
   "outputs": [
    {
     "data": {
      "text/plain": [
       "Gurugram                      931\n",
       "Mumbai                        113\n",
       "Jaipur                         55\n",
       "New Delhi                      50\n",
       "Singapore                      28\n",
       "Noida                          22\n",
       "Sahibzada Ajit Singh Nagar      9\n",
       "Bengaluru                       9\n",
       "Mandi Gobindgarh                5\n",
       "Hyderabad                       5\n",
       "Alexandria                      5\n",
       "Chandigarh                      3\n",
       "Bambolim                        3\n",
       "Ludhiana                        3\n",
       "Los Angeles                     2\n",
       "Alwar                           2\n",
       "Sepang                          2\n",
       "Dabolim                         1\n",
       "Ghata                           1\n",
       "New York                        1\n",
       "Sarhol                          1\n",
       "Kolkata                         1\n",
       "San Antonio                     1\n",
       "Amritsar                        1\n",
       "Seattle                         1\n",
       "Haryana                         1\n",
       "Kukas                           1\n",
       "Arpora                          1\n",
       "Gurdaspur                       1\n",
       "Patiala                         1\n",
       "Kota                            1\n",
       "Kuala Lumpur                    1\n",
       "Khanna                          1\n",
       "Fatehgarh Sahib                 1\n",
       "Greater Noida                   1\n",
       "Paota                           1\n",
       "Faridabad                       1\n",
       "Name: City, dtype: int64"
      ]
     },
     "execution_count": 48,
     "metadata": {
      "tags": []
     },
     "output_type": "execute_result"
    }
   ],
   "source": [
    "dataframe_4['City'].value_counts()\n",
    "# Gurugram in hindi need to be replaced to English"
   ]
  },
  {
   "cell_type": "code",
   "execution_count": 49,
   "metadata": {
    "colab": {
     "base_uri": "https://localhost:8080/"
    },
    "executionInfo": {
     "elapsed": 34,
     "status": "ok",
     "timestamp": 1623413320136,
     "user": {
      "displayName": "Aravindh Ravi",
      "photoUrl": "https://lh3.googleusercontent.com/a-/AOh14Gg6EpUJbxfaJau7GuJhLzctW6s9to-RMtRufFl2yw=s64",
      "userId": "01057670441275100003"
     },
     "user_tz": -330
    },
    "id": "amzwdiUf6a15",
    "outputId": "b536ca65-61da-42da-bb7f-7fe985a85e1e"
   },
   "outputs": [
    {
     "data": {
      "text/plain": [
       "199"
      ]
     },
     "execution_count": 49,
     "metadata": {
      "tags": []
     },
     "output_type": "execute_result"
    }
   ],
   "source": [
    "dataframe_4['City'].isnull().sum()"
   ]
  },
  {
   "cell_type": "markdown",
   "metadata": {
    "id": "6LXJijdm6ng1"
   },
   "source": [
    "### Analysing State"
   ]
  },
  {
   "cell_type": "code",
   "execution_count": 50,
   "metadata": {
    "colab": {
     "base_uri": "https://localhost:8080/"
    },
    "executionInfo": {
     "elapsed": 33,
     "status": "ok",
     "timestamp": 1623413320137,
     "user": {
      "displayName": "Aravindh Ravi",
      "photoUrl": "https://lh3.googleusercontent.com/a-/AOh14Gg6EpUJbxfaJau7GuJhLzctW6s9to-RMtRufFl2yw=s64",
      "userId": "01057670441275100003"
     },
     "user_tz": -330
    },
    "id": "LcIMAt896pVc",
    "outputId": "55f99384-1c11-49d5-c79b-39c01d224744"
   },
   "outputs": [
    {
     "data": {
      "text/plain": [
       "array(['Haryana', 'Rajasthan', nan, 'Karnataka', 'Telangana',\n",
       "       'Uttar Pradesh', 'Maharashtra', 'Delhi', 'हरियाणा',\n",
       "       'Wilayah Persekutuan Kuala Lumpur', 'Virginia', 'Punjab',\n",
       "       'New York', 'Texas', 'Goa', 'Washington', 'West Bengal',\n",
       "       'California', 'Chandigarh', 'Selangor'], dtype=object)"
      ]
     },
     "execution_count": 50,
     "metadata": {
      "tags": []
     },
     "output_type": "execute_result"
    }
   ],
   "source": [
    "dataframe_4['State'].unique()"
   ]
  },
  {
   "cell_type": "code",
   "execution_count": 51,
   "metadata": {
    "executionInfo": {
     "elapsed": 33,
     "status": "ok",
     "timestamp": 1623413320138,
     "user": {
      "displayName": "Aravindh Ravi",
      "photoUrl": "https://lh3.googleusercontent.com/a-/AOh14Gg6EpUJbxfaJau7GuJhLzctW6s9to-RMtRufFl2yw=s64",
      "userId": "01057670441275100003"
     },
     "user_tz": -330
    },
    "id": "d1qE0nvvpICe"
   },
   "outputs": [],
   "source": [
    "dataframe_4['State']= dataframe_4['State'].replace('हरियाणा','Haryana')"
   ]
  },
  {
   "cell_type": "code",
   "execution_count": 52,
   "metadata": {
    "colab": {
     "base_uri": "https://localhost:8080/"
    },
    "executionInfo": {
     "elapsed": 33,
     "status": "ok",
     "timestamp": 1623413320138,
     "user": {
      "displayName": "Aravindh Ravi",
      "photoUrl": "https://lh3.googleusercontent.com/a-/AOh14Gg6EpUJbxfaJau7GuJhLzctW6s9to-RMtRufFl2yw=s64",
      "userId": "01057670441275100003"
     },
     "user_tz": -330
    },
    "id": "UBLyB7U36sSJ",
    "outputId": "ee89209b-8c83-4d47-e0a1-f8d6200f75db"
   },
   "outputs": [
    {
     "data": {
      "text/plain": [
       "18"
      ]
     },
     "execution_count": 52,
     "metadata": {
      "tags": []
     },
     "output_type": "execute_result"
    }
   ],
   "source": [
    "dataframe_4['State'].nunique()\n",
    "# should get decereased to 18"
   ]
  },
  {
   "cell_type": "code",
   "execution_count": 53,
   "metadata": {
    "colab": {
     "base_uri": "https://localhost:8080/"
    },
    "executionInfo": {
     "elapsed": 33,
     "status": "ok",
     "timestamp": 1623413320139,
     "user": {
      "displayName": "Aravindh Ravi",
      "photoUrl": "https://lh3.googleusercontent.com/a-/AOh14Gg6EpUJbxfaJau7GuJhLzctW6s9to-RMtRufFl2yw=s64",
      "userId": "01057670441275100003"
     },
     "user_tz": -330
    },
    "id": "kF5JAYc96u94",
    "outputId": "93771b08-109d-4c6b-dbe5-1cdb146fe0fb"
   },
   "outputs": [
    {
     "data": {
      "text/plain": [
       "Haryana                             936\n",
       "Maharashtra                         113\n",
       "Rajasthan                            60\n",
       "Delhi                                50\n",
       "Punjab                               24\n",
       "Uttar Pradesh                        23\n",
       "Karnataka                             9\n",
       "Telangana                             5\n",
       "Goa                                   5\n",
       "Virginia                              5\n",
       "New York                              3\n",
       "Selangor                              2\n",
       "California                            2\n",
       "West Bengal                           1\n",
       "Washington                            1\n",
       "Wilayah Persekutuan Kuala Lumpur      1\n",
       "Texas                                 1\n",
       "Chandigarh                            1\n",
       "Name: State, dtype: int64"
      ]
     },
     "execution_count": 53,
     "metadata": {
      "tags": []
     },
     "output_type": "execute_result"
    }
   ],
   "source": [
    "dataframe_4['State'].value_counts()\n",
    "\n",
    "# The word in Hindi need to be replaced with English word "
   ]
  },
  {
   "cell_type": "code",
   "execution_count": 54,
   "metadata": {
    "colab": {
     "base_uri": "https://localhost:8080/"
    },
    "executionInfo": {
     "elapsed": 32,
     "status": "ok",
     "timestamp": 1623413320139,
     "user": {
      "displayName": "Aravindh Ravi",
      "photoUrl": "https://lh3.googleusercontent.com/a-/AOh14Gg6EpUJbxfaJau7GuJhLzctW6s9to-RMtRufFl2yw=s64",
      "userId": "01057670441275100003"
     },
     "user_tz": -330
    },
    "id": "kQ5DJZVZ6xPB",
    "outputId": "16537067-577d-443d-d22f-3871a5643249"
   },
   "outputs": [
    {
     "data": {
      "text/plain": [
       "224"
      ]
     },
     "execution_count": 54,
     "metadata": {
      "tags": []
     },
     "output_type": "execute_result"
    }
   ],
   "source": [
    "dataframe_4['State'].isnull().sum()\n",
    "# There are 224 null values on State \n",
    "# There are 168 null values on Locality \n",
    "# There are 199 null values in City "
   ]
  },
  {
   "cell_type": "markdown",
   "metadata": {
    "id": "I4oz8EE5-W6i"
   },
   "source": [
    "### Analysing Country"
   ]
  },
  {
   "cell_type": "code",
   "execution_count": 55,
   "metadata": {
    "colab": {
     "base_uri": "https://localhost:8080/"
    },
    "executionInfo": {
     "elapsed": 31,
     "status": "ok",
     "timestamp": 1623413320139,
     "user": {
      "displayName": "Aravindh Ravi",
      "photoUrl": "https://lh3.googleusercontent.com/a-/AOh14Gg6EpUJbxfaJau7GuJhLzctW6s9to-RMtRufFl2yw=s64",
      "userId": "01057670441275100003"
     },
     "user_tz": -330
    },
    "id": "Mmy6ekL9-ZHv",
    "outputId": "882ca2c2-5b2d-4b22-e478-8e0cc7d76640"
   },
   "outputs": [
    {
     "data": {
      "text/plain": [
       "array(['India', nan, 'Malaysia', 'United States', 'Singapore'],\n",
       "      dtype=object)"
      ]
     },
     "execution_count": 55,
     "metadata": {
      "tags": []
     },
     "output_type": "execute_result"
    }
   ],
   "source": [
    "dataframe_4['Country'].unique()"
   ]
  },
  {
   "cell_type": "code",
   "execution_count": 56,
   "metadata": {
    "colab": {
     "base_uri": "https://localhost:8080/"
    },
    "executionInfo": {
     "elapsed": 31,
     "status": "ok",
     "timestamp": 1623413320140,
     "user": {
      "displayName": "Aravindh Ravi",
      "photoUrl": "https://lh3.googleusercontent.com/a-/AOh14Gg6EpUJbxfaJau7GuJhLzctW6s9to-RMtRufFl2yw=s64",
      "userId": "01057670441275100003"
     },
     "user_tz": -330
    },
    "id": "vaTkuKWu-cFP",
    "outputId": "2d42fd8e-4f81-4146-ca7d-c6ac996de8ce"
   },
   "outputs": [
    {
     "data": {
      "text/plain": [
       "4"
      ]
     },
     "execution_count": 56,
     "metadata": {
      "tags": []
     },
     "output_type": "execute_result"
    }
   ],
   "source": [
    "dataframe_4['Country'].nunique()"
   ]
  },
  {
   "cell_type": "code",
   "execution_count": 57,
   "metadata": {
    "colab": {
     "base_uri": "https://localhost:8080/"
    },
    "executionInfo": {
     "elapsed": 30,
     "status": "ok",
     "timestamp": 1623413320140,
     "user": {
      "displayName": "Aravindh Ravi",
      "photoUrl": "https://lh3.googleusercontent.com/a-/AOh14Gg6EpUJbxfaJau7GuJhLzctW6s9to-RMtRufFl2yw=s64",
      "userId": "01057670441275100003"
     },
     "user_tz": -330
    },
    "id": "n2dT_6QZ-eFs",
    "outputId": "af5381b6-0091-4c91-c7fa-93b44d0e5c3b"
   },
   "outputs": [
    {
     "data": {
      "text/plain": [
       "India            1260\n",
       "Singapore          28\n",
       "United States      12\n",
       "Malaysia            3\n",
       "Name: Country, dtype: int64"
      ]
     },
     "execution_count": 57,
     "metadata": {
      "tags": []
     },
     "output_type": "execute_result"
    }
   ],
   "source": [
    "dataframe_4['Country'].value_counts()"
   ]
  },
  {
   "cell_type": "code",
   "execution_count": 58,
   "metadata": {
    "colab": {
     "base_uri": "https://localhost:8080/"
    },
    "executionInfo": {
     "elapsed": 30,
     "status": "ok",
     "timestamp": 1623413320141,
     "user": {
      "displayName": "Aravindh Ravi",
      "photoUrl": "https://lh3.googleusercontent.com/a-/AOh14Gg6EpUJbxfaJau7GuJhLzctW6s9to-RMtRufFl2yw=s64",
      "userId": "01057670441275100003"
     },
     "user_tz": -330
    },
    "id": "uAINmzu5-fsO",
    "outputId": "b8fd539b-cb0a-42b8-9deb-c0c1c5846bf9"
   },
   "outputs": [
    {
     "data": {
      "text/plain": [
       "163"
      ]
     },
     "execution_count": 58,
     "metadata": {
      "tags": []
     },
     "output_type": "execute_result"
    }
   ],
   "source": [
    "dataframe_4['Country'].isnull().sum()\n",
    "\n",
    "# There are 163 null values on the Country\n",
    "# There are 224 null values on State \n",
    "# There are 168 null values on Locality \n",
    "# There are 199 null values in City  "
   ]
  },
  {
   "cell_type": "code",
   "execution_count": 59,
   "metadata": {
    "executionInfo": {
     "elapsed": 29,
     "status": "ok",
     "timestamp": 1623413320141,
     "user": {
      "displayName": "Aravindh Ravi",
      "photoUrl": "https://lh3.googleusercontent.com/a-/AOh14Gg6EpUJbxfaJau7GuJhLzctW6s9to-RMtRufFl2yw=s64",
      "userId": "01057670441275100003"
     },
     "user_tz": -330
    },
    "id": "m2YMXamcmYNH"
   },
   "outputs": [],
   "source": [
    "dataframe_4.loc[dataframe_4['IsoCurrency'] == 'INR', 'Country'] = 'India'\n",
    "dataframe_4.loc[dataframe_4['IsoCurrency'] == 'USD', 'Country'] = 'United States'\n",
    "dataframe_4.loc[dataframe_4['IsoCurrency'] == 'SGD', 'Country'] = 'Singapore'"
   ]
  },
  {
   "cell_type": "markdown",
   "metadata": {
    "id": "midW15Jc_kZ5"
   },
   "source": [
    "### Analysing 'Unnamed: 12' Column"
   ]
  },
  {
   "cell_type": "code",
   "execution_count": 60,
   "metadata": {
    "colab": {
     "base_uri": "https://localhost:8080/"
    },
    "executionInfo": {
     "elapsed": 30,
     "status": "ok",
     "timestamp": 1623413320142,
     "user": {
      "displayName": "Aravindh Ravi",
      "photoUrl": "https://lh3.googleusercontent.com/a-/AOh14Gg6EpUJbxfaJau7GuJhLzctW6s9to-RMtRufFl2yw=s64",
      "userId": "01057670441275100003"
     },
     "user_tz": -330
    },
    "id": "jB_VJcvp-idj",
    "outputId": "d35ccfe6-9f9f-4c43-c1f8-4da75e7b545f"
   },
   "outputs": [
    {
     "data": {
      "text/plain": [
       "array([nan], dtype=object)"
      ]
     },
     "execution_count": 60,
     "metadata": {
      "tags": []
     },
     "output_type": "execute_result"
    }
   ],
   "source": [
    "dataframe_4['Unnamed: 12'].unique()"
   ]
  },
  {
   "cell_type": "code",
   "execution_count": 61,
   "metadata": {
    "colab": {
     "base_uri": "https://localhost:8080/"
    },
    "executionInfo": {
     "elapsed": 29,
     "status": "ok",
     "timestamp": 1623413320142,
     "user": {
      "displayName": "Aravindh Ravi",
      "photoUrl": "https://lh3.googleusercontent.com/a-/AOh14Gg6EpUJbxfaJau7GuJhLzctW6s9to-RMtRufFl2yw=s64",
      "userId": "01057670441275100003"
     },
     "user_tz": -330
    },
    "id": "kiYViSCo_iLa",
    "outputId": "859b3d7d-cac3-4e1b-a458-88416d3c02b6"
   },
   "outputs": [
    {
     "data": {
      "text/plain": [
       "InternationTransactionAmount      0\n",
       "Category                          0\n",
       "Amount                            0\n",
       "TransactionType                   0\n",
       "IsoCurrency                       0\n",
       "Locality                        168\n",
       "City                            199\n",
       "State                           224\n",
       "Country                           0\n",
       "date_parsed                       0\n",
       "TransactionUserName_new           0\n",
       "dtype: int64"
      ]
     },
     "execution_count": 61,
     "metadata": {
      "tags": []
     },
     "output_type": "execute_result"
    }
   ],
   "source": [
    "# Dropping Description and Unnamed:12 column\n",
    "dataframe_5 = dataframe_4.drop(['Unnamed: 12','Description'], axis = 1)\n",
    "dataframe_5.isnull().sum()"
   ]
  },
  {
   "cell_type": "markdown",
   "metadata": {
    "id": "sIBUwEvtyZw9"
   },
   "source": [
    "### Treating missing values "
   ]
  },
  {
   "cell_type": "code",
   "execution_count": 62,
   "metadata": {
    "colab": {
     "base_uri": "https://localhost:8080/"
    },
    "executionInfo": {
     "elapsed": 28,
     "status": "ok",
     "timestamp": 1623413320143,
     "user": {
      "displayName": "Aravindh Ravi",
      "photoUrl": "https://lh3.googleusercontent.com/a-/AOh14Gg6EpUJbxfaJau7GuJhLzctW6s9to-RMtRufFl2yw=s64",
      "userId": "01057670441275100003"
     },
     "user_tz": -330
    },
    "id": "cFZaU50_yblL",
    "outputId": "3f9210f3-3fe1-45f8-f223-cea7762bdb7c"
   },
   "outputs": [
    {
     "data": {
      "text/plain": [
       "InternationTransactionAmount      0\n",
       "Category                          0\n",
       "Amount                            0\n",
       "TransactionType                   0\n",
       "IsoCurrency                       0\n",
       "Locality                        168\n",
       "City                            199\n",
       "State                           224\n",
       "Country                           0\n",
       "date_parsed                       0\n",
       "TransactionUserName_new           0\n",
       "dtype: int64"
      ]
     },
     "execution_count": 62,
     "metadata": {
      "tags": []
     },
     "output_type": "execute_result"
    }
   ],
   "source": [
    "dataframe_5.isnull().sum()"
   ]
  },
  {
   "cell_type": "code",
   "execution_count": 63,
   "metadata": {
    "colab": {
     "base_uri": "https://localhost:8080/"
    },
    "executionInfo": {
     "elapsed": 26,
     "status": "ok",
     "timestamp": 1623413320143,
     "user": {
      "displayName": "Aravindh Ravi",
      "photoUrl": "https://lh3.googleusercontent.com/a-/AOh14Gg6EpUJbxfaJau7GuJhLzctW6s9to-RMtRufFl2yw=s64",
      "userId": "01057670441275100003"
     },
     "user_tz": -330
    },
    "id": "Liv76nPayjf9",
    "outputId": "ab19b26e-fe42-4542-8deb-7f65f12d3863"
   },
   "outputs": [
    {
     "data": {
      "text/plain": [
       "InternationTransactionAmount           float64\n",
       "Category                                object\n",
       "Amount                                 float64\n",
       "TransactionType                         object\n",
       "IsoCurrency                             object\n",
       "Locality                                object\n",
       "City                                    object\n",
       "State                                   object\n",
       "Country                                 object\n",
       "date_parsed                     datetime64[ns]\n",
       "TransactionUserName_new                 object\n",
       "dtype: object"
      ]
     },
     "execution_count": 63,
     "metadata": {
      "tags": []
     },
     "output_type": "execute_result"
    }
   ],
   "source": [
    "dataframe_5.dtypes"
   ]
  },
  {
   "cell_type": "code",
   "execution_count": 64,
   "metadata": {
    "executionInfo": {
     "elapsed": 25,
     "status": "ok",
     "timestamp": 1623413320144,
     "user": {
      "displayName": "Aravindh Ravi",
      "photoUrl": "https://lh3.googleusercontent.com/a-/AOh14Gg6EpUJbxfaJau7GuJhLzctW6s9to-RMtRufFl2yw=s64",
      "userId": "01057670441275100003"
     },
     "user_tz": -330
    },
    "id": "qLXDc0RqysgI"
   },
   "outputs": [],
   "source": [
    "for x in dataframe_5.columns: \n",
    "  if dataframe_5[x].isnull().sum() > 0:\n",
    "      if dataframe_5[x].dtype == 'object': \n",
    "        dataframe_5[x] = dataframe_5[x].replace(np.nan, dataframe_5[x].mode()[0])"
   ]
  },
  {
   "cell_type": "code",
   "execution_count": 65,
   "metadata": {
    "colab": {
     "base_uri": "https://localhost:8080/"
    },
    "executionInfo": {
     "elapsed": 24,
     "status": "ok",
     "timestamp": 1623413320144,
     "user": {
      "displayName": "Aravindh Ravi",
      "photoUrl": "https://lh3.googleusercontent.com/a-/AOh14Gg6EpUJbxfaJau7GuJhLzctW6s9to-RMtRufFl2yw=s64",
      "userId": "01057670441275100003"
     },
     "user_tz": -330
    },
    "id": "3MPLM8RVy9Zn",
    "outputId": "4f692d89-af80-4eb6-e5d7-0d01d8f21cf9"
   },
   "outputs": [
    {
     "data": {
      "text/plain": [
       "InternationTransactionAmount    0\n",
       "Category                        0\n",
       "Amount                          0\n",
       "TransactionType                 0\n",
       "IsoCurrency                     0\n",
       "Locality                        0\n",
       "City                            0\n",
       "State                           0\n",
       "Country                         0\n",
       "date_parsed                     0\n",
       "TransactionUserName_new         0\n",
       "dtype: int64"
      ]
     },
     "execution_count": 65,
     "metadata": {
      "tags": []
     },
     "output_type": "execute_result"
    }
   ],
   "source": [
    "dataframe_5.isnull().sum()"
   ]
  },
  {
   "cell_type": "code",
   "execution_count": 67,
   "metadata": {
    "executionInfo": {
     "elapsed": 959,
     "status": "ok",
     "timestamp": 1623413426767,
     "user": {
      "displayName": "Aravindh Ravi",
      "photoUrl": "https://lh3.googleusercontent.com/a-/AOh14Gg6EpUJbxfaJau7GuJhLzctW6s9to-RMtRufFl2yw=s64",
      "userId": "01057670441275100003"
     },
     "user_tz": -330
    },
    "id": "nO6jd-UVQ3pu"
   },
   "outputs": [],
   "source": [
    "dataframe_5.to_excel('/content/drive/My Drive/one_banc_code_submission/file.xlsx')"
   ]
  },
  {
   "cell_type": "code",
   "execution_count": null,
   "metadata": {
    "id": "qRB6EjRv-wP9"
   },
   "outputs": [],
   "source": []
  }
 ],
 "metadata": {
  "colab": {
   "authorship_tag": "ABX9TyNzCpmYdOp0kzEKxd4bPjCo",
   "collapsed_sections": [
    "iq2lU-WVblE-",
    "8faKggvvbwyO",
    "jhQtrkRrfiMU",
    "US8Tq19Yi75P",
    "r7_hr7FalK_d",
    "ygND2MTintsr",
    "lIugUYYAmVmm",
    "64zFdsNk6PIl",
    "6LXJijdm6ng1",
    "I4oz8EE5-W6i"
   ],
   "name": "DataScienceCleanStatement.ipynb",
   "provenance": []
  },
  "kernelspec": {
   "display_name": "Python 3",
   "language": "python",
   "name": "python3"
  },
  "language_info": {
   "codemirror_mode": {
    "name": "ipython",
    "version": 3
   },
   "file_extension": ".py",
   "mimetype": "text/x-python",
   "name": "python",
   "nbconvert_exporter": "python",
   "pygments_lexer": "ipython3",
   "version": "3.7.7"
  }
 },
 "nbformat": 4,
 "nbformat_minor": 1
}
